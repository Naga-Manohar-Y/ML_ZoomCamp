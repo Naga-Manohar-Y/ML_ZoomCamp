{
 "cells": [
  {
   "cell_type": "markdown",
   "metadata": {},
   "source": [
    "## 1. Data Loading & Pre-processing"
   ]
  },
  {
   "cell_type": "code",
   "execution_count": 55,
   "metadata": {
    "colab": {
     "base_uri": "https://localhost:8080/"
    },
    "id": "AwWTfNFMXdZF",
    "outputId": "f4bedc92-61d1-4b6c-9ccd-dd8ff2d24b10"
   },
   "outputs": [
    {
     "name": "stdout",
     "output_type": "stream",
     "text": [
      "  transaction_id customer_id       card_number  \\\n",
      "0    TX_a0ad2a2a  CUST_72886  6646734767813109   \n",
      "1    TX_3599c101  CUST_70474   376800864692727   \n",
      "2    TX_a9461c6d  CUST_10715  5251909460951913   \n",
      "3    TX_7be21fc4  CUST_16193   376079286931183   \n",
      "4    TX_150f490b  CUST_87572  6172948052178810   \n",
      "\n",
      "                          timestamp merchant_category merchant_type  \\\n",
      "0  2024-09-30 00:00:01.034820+00:00        Restaurant     fast_food   \n",
      "1  2024-09-30 00:00:01.764464+00:00     Entertainment        gaming   \n",
      "2  2024-09-30 00:00:02.273762+00:00           Grocery      physical   \n",
      "3  2024-09-30 00:00:02.297466+00:00               Gas         major   \n",
      "4  2024-09-30 00:00:02.544063+00:00        Healthcare       medical   \n",
      "\n",
      "         merchant     amount currency    country  ...   device channel  \\\n",
      "0       Taco Bell     294.87      GBP         UK  ...  iOS App  mobile   \n",
      "1           Steam    3368.97      BRL     Brazil  ...     Edge     web   \n",
      "2     Whole Foods  102582.38      JPY      Japan  ...  Firefox     web   \n",
      "3           Exxon     630.60      AUD  Australia  ...  iOS App  mobile   \n",
      "4  Medical Center  724949.27      NGN    Nigeria  ...   Chrome     web   \n",
      "\n",
      "                 device_fingerprint       ip_address distance_from_home  \\\n",
      "0  e8e6160445c935fd0001501e4cbac8bc   197.153.60.199                  0   \n",
      "1  a73043a57091e775af37f252b3a32af9  208.123.221.203                  1   \n",
      "2  218864e94ceaa41577d216b149722261   10.194.159.204                  0   \n",
      "3  70423fa3a1e74d01203cf93b51b9631d   17.230.177.225                  0   \n",
      "4  9880776c7b6038f2af86bd4e18a1b1a4  136.241.219.151                  1   \n",
      "\n",
      "  high_risk_merchant transaction_hour weekend_transaction  \\\n",
      "0              False                0               False   \n",
      "1               True                0               False   \n",
      "2              False                0               False   \n",
      "3              False                0               False   \n",
      "4              False                0               False   \n",
      "\n",
      "                                  velocity_last_hour  is_fraud  \n",
      "0  {'num_transactions': 1197, 'total_amount': 334...     False  \n",
      "1  {'num_transactions': 509, 'total_amount': 2011...      True  \n",
      "2  {'num_transactions': 332, 'total_amount': 3916...     False  \n",
      "3  {'num_transactions': 764, 'total_amount': 2201...     False  \n",
      "4  {'num_transactions': 218, 'total_amount': 4827...      True  \n",
      "\n",
      "[5 rows x 24 columns]\n"
     ]
    }
   ],
   "source": [
    "import pandas as pd\n",
    "\n",
    "# Load the CSV file\n",
    "file_path = \"synthetic_fraud_data.csv\"\n",
    "data = pd.read_csv(file_path)\n",
    "\n",
    "# Display the first few rows\n",
    "print(data.head())\n"
   ]
  },
  {
   "cell_type": "markdown",
   "metadata": {},
   "source": [
    "**Sampling the data using stratified sampling**"
   ]
  },
  {
   "cell_type": "code",
   "execution_count": 56,
   "metadata": {
    "colab": {
     "base_uri": "https://localhost:8080/"
    },
    "id": "nTCCtz1fx_Wc",
    "outputId": "220e996a-458e-43f8-f825-18ecebe0f4b8"
   },
   "outputs": [
    {
     "name": "stdout",
     "output_type": "stream",
     "text": [
      "is_fraud\n",
      "False    0.800273\n",
      "True     0.199727\n",
      "Name: proportion, dtype: float64\n"
     ]
    }
   ],
   "source": [
    "import pandas as pd\n",
    "from sklearn.model_selection import train_test_split\n",
    "\n",
    "# Define sample size\n",
    "sample_size = 300000\n",
    "\n",
    "# Calculate the sample fraction\n",
    "sample_fraction = sample_size / len(data)\n",
    "\n",
    "# Perform stratified sampling\n",
    "stratified_sample, _ = train_test_split(\n",
    "    data,\n",
    "    stratify=data['is_fraud'],  # Preserve the target variable's distribution\n",
    "    test_size=1 - sample_fraction,    # Exclude the remainder\n",
    "    random_state=21\n",
    ")\n",
    "\n",
    "# Save the stratified sample to a new CSV (optional)\n",
    "stratified_sample.to_csv('sampled_fraud_data.csv', index=False)\n",
    "\n",
    "# Display class distribution in the sample\n",
    "print(stratified_sample['is_fraud'].value_counts(normalize=True))\n"
   ]
  },
  {
   "cell_type": "code",
   "execution_count": 57,
   "metadata": {
    "colab": {
     "base_uri": "https://localhost:8080/",
     "height": 377
    },
    "id": "Zs_wNDTvzPeo",
    "outputId": "182f2f7d-1ba5-4778-bb31-4a6aeadbf983"
   },
   "outputs": [
    {
     "data": {
      "text/html": [
       "<div>\n",
       "<style scoped>\n",
       "    .dataframe tbody tr th:only-of-type {\n",
       "        vertical-align: middle;\n",
       "    }\n",
       "\n",
       "    .dataframe tbody tr th {\n",
       "        vertical-align: top;\n",
       "    }\n",
       "\n",
       "    .dataframe thead th {\n",
       "        text-align: right;\n",
       "    }\n",
       "</style>\n",
       "<table border=\"1\" class=\"dataframe\">\n",
       "  <thead>\n",
       "    <tr style=\"text-align: right;\">\n",
       "      <th></th>\n",
       "      <th>0</th>\n",
       "      <th>1</th>\n",
       "      <th>2</th>\n",
       "      <th>3</th>\n",
       "      <th>4</th>\n",
       "    </tr>\n",
       "  </thead>\n",
       "  <tbody>\n",
       "    <tr>\n",
       "      <th>transaction_id</th>\n",
       "      <td>TX_096ac504</td>\n",
       "      <td>TX_b4fc249b</td>\n",
       "      <td>TX_e7a8342f</td>\n",
       "      <td>TX_af2f6e32</td>\n",
       "      <td>TX_2963cca8</td>\n",
       "    </tr>\n",
       "    <tr>\n",
       "      <th>customer_id</th>\n",
       "      <td>CUST_23264</td>\n",
       "      <td>CUST_69172</td>\n",
       "      <td>CUST_65854</td>\n",
       "      <td>CUST_72072</td>\n",
       "      <td>CUST_47168</td>\n",
       "    </tr>\n",
       "    <tr>\n",
       "      <th>card_number</th>\n",
       "      <td>5907560822147852</td>\n",
       "      <td>6964509754759117</td>\n",
       "      <td>6340933244890610</td>\n",
       "      <td>379855553189895</td>\n",
       "      <td>4651392195611897</td>\n",
       "    </tr>\n",
       "    <tr>\n",
       "      <th>timestamp</th>\n",
       "      <td>2024-10-28 18:44:19.628914+00:00</td>\n",
       "      <td>2024-10-09 06:10:10.451308+00:00</td>\n",
       "      <td>2024-10-21 19:39:40.672085+00:00</td>\n",
       "      <td>2024-09-30 09:17:29.412544+00:00</td>\n",
       "      <td>2024-10-23 05:27:59.249798+00:00</td>\n",
       "    </tr>\n",
       "    <tr>\n",
       "      <th>merchant_category</th>\n",
       "      <td>Gas</td>\n",
       "      <td>Gas</td>\n",
       "      <td>Retail</td>\n",
       "      <td>Grocery</td>\n",
       "      <td>Travel</td>\n",
       "    </tr>\n",
       "    <tr>\n",
       "      <th>merchant_type</th>\n",
       "      <td>major</td>\n",
       "      <td>local</td>\n",
       "      <td>physical</td>\n",
       "      <td>online</td>\n",
       "      <td>hotels</td>\n",
       "    </tr>\n",
       "    <tr>\n",
       "      <th>merchant</th>\n",
       "      <td>Mobil</td>\n",
       "      <td>Highway Gas Stop</td>\n",
       "      <td>IKEA</td>\n",
       "      <td>Amazon Fresh</td>\n",
       "      <td>Marriott</td>\n",
       "    </tr>\n",
       "    <tr>\n",
       "      <th>amount</th>\n",
       "      <td>32145.02</td>\n",
       "      <td>340.67</td>\n",
       "      <td>2026.95</td>\n",
       "      <td>2214.97</td>\n",
       "      <td>51106.42</td>\n",
       "    </tr>\n",
       "    <tr>\n",
       "      <th>currency</th>\n",
       "      <td>RUB</td>\n",
       "      <td>EUR</td>\n",
       "      <td>BRL</td>\n",
       "      <td>BRL</td>\n",
       "      <td>RUB</td>\n",
       "    </tr>\n",
       "    <tr>\n",
       "      <th>country</th>\n",
       "      <td>Russia</td>\n",
       "      <td>Germany</td>\n",
       "      <td>Brazil</td>\n",
       "      <td>Brazil</td>\n",
       "      <td>Russia</td>\n",
       "    </tr>\n",
       "    <tr>\n",
       "      <th>city</th>\n",
       "      <td>Unknown City</td>\n",
       "      <td>Unknown City</td>\n",
       "      <td>Unknown City</td>\n",
       "      <td>Unknown City</td>\n",
       "      <td>Unknown City</td>\n",
       "    </tr>\n",
       "    <tr>\n",
       "      <th>city_size</th>\n",
       "      <td>medium</td>\n",
       "      <td>medium</td>\n",
       "      <td>medium</td>\n",
       "      <td>medium</td>\n",
       "      <td>medium</td>\n",
       "    </tr>\n",
       "    <tr>\n",
       "      <th>card_type</th>\n",
       "      <td>Premium Debit</td>\n",
       "      <td>Basic Debit</td>\n",
       "      <td>Premium Debit</td>\n",
       "      <td>Gold Credit</td>\n",
       "      <td>Gold Credit</td>\n",
       "    </tr>\n",
       "    <tr>\n",
       "      <th>card_present</th>\n",
       "      <td>False</td>\n",
       "      <td>False</td>\n",
       "      <td>False</td>\n",
       "      <td>False</td>\n",
       "      <td>False</td>\n",
       "    </tr>\n",
       "    <tr>\n",
       "      <th>device</th>\n",
       "      <td>iOS App</td>\n",
       "      <td>Edge</td>\n",
       "      <td>Android App</td>\n",
       "      <td>Firefox</td>\n",
       "      <td>Safari</td>\n",
       "    </tr>\n",
       "    <tr>\n",
       "      <th>channel</th>\n",
       "      <td>mobile</td>\n",
       "      <td>web</td>\n",
       "      <td>mobile</td>\n",
       "      <td>web</td>\n",
       "      <td>web</td>\n",
       "    </tr>\n",
       "    <tr>\n",
       "      <th>device_fingerprint</th>\n",
       "      <td>ede1c3e73a19c41c891926ea75763bd4</td>\n",
       "      <td>027861a2331602e2ab1656dbf181a7d3</td>\n",
       "      <td>b2803cbb2c10ae41fe2900cf03c7e295</td>\n",
       "      <td>5ef716acb59875102e9c57ab00dd195f</td>\n",
       "      <td>c28673a4752f5cd46f694a7a01be45b2</td>\n",
       "    </tr>\n",
       "    <tr>\n",
       "      <th>ip_address</th>\n",
       "      <td>13.73.182.254</td>\n",
       "      <td>181.218.193.222</td>\n",
       "      <td>253.205.158.226</td>\n",
       "      <td>190.36.191.35</td>\n",
       "      <td>213.120.57.4</td>\n",
       "    </tr>\n",
       "    <tr>\n",
       "      <th>distance_from_home</th>\n",
       "      <td>1</td>\n",
       "      <td>0</td>\n",
       "      <td>0</td>\n",
       "      <td>0</td>\n",
       "      <td>0</td>\n",
       "    </tr>\n",
       "    <tr>\n",
       "      <th>high_risk_merchant</th>\n",
       "      <td>False</td>\n",
       "      <td>False</td>\n",
       "      <td>False</td>\n",
       "      <td>False</td>\n",
       "      <td>True</td>\n",
       "    </tr>\n",
       "    <tr>\n",
       "      <th>transaction_hour</th>\n",
       "      <td>18</td>\n",
       "      <td>6</td>\n",
       "      <td>19</td>\n",
       "      <td>9</td>\n",
       "      <td>5</td>\n",
       "    </tr>\n",
       "    <tr>\n",
       "      <th>weekend_transaction</th>\n",
       "      <td>False</td>\n",
       "      <td>False</td>\n",
       "      <td>False</td>\n",
       "      <td>False</td>\n",
       "      <td>False</td>\n",
       "    </tr>\n",
       "    <tr>\n",
       "      <th>velocity_last_hour</th>\n",
       "      <td>{'num_transactions': 41, 'total_amount': 13804...</td>\n",
       "      <td>{'num_transactions': 479, 'total_amount': 7698...</td>\n",
       "      <td>{'num_transactions': 35, 'total_amount': 40073...</td>\n",
       "      <td>{'num_transactions': 698, 'total_amount': 1693...</td>\n",
       "      <td>{'num_transactions': 28, 'total_amount': 17946...</td>\n",
       "    </tr>\n",
       "    <tr>\n",
       "      <th>is_fraud</th>\n",
       "      <td>False</td>\n",
       "      <td>False</td>\n",
       "      <td>False</td>\n",
       "      <td>False</td>\n",
       "      <td>False</td>\n",
       "    </tr>\n",
       "  </tbody>\n",
       "</table>\n",
       "</div>"
      ],
      "text/plain": [
       "                                                                     0  \\\n",
       "transaction_id                                             TX_096ac504   \n",
       "customer_id                                                 CUST_23264   \n",
       "card_number                                           5907560822147852   \n",
       "timestamp                             2024-10-28 18:44:19.628914+00:00   \n",
       "merchant_category                                                  Gas   \n",
       "merchant_type                                                    major   \n",
       "merchant                                                         Mobil   \n",
       "amount                                                        32145.02   \n",
       "currency                                                           RUB   \n",
       "country                                                         Russia   \n",
       "city                                                      Unknown City   \n",
       "city_size                                                       medium   \n",
       "card_type                                                Premium Debit   \n",
       "card_present                                                     False   \n",
       "device                                                         iOS App   \n",
       "channel                                                         mobile   \n",
       "device_fingerprint                    ede1c3e73a19c41c891926ea75763bd4   \n",
       "ip_address                                               13.73.182.254   \n",
       "distance_from_home                                                   1   \n",
       "high_risk_merchant                                               False   \n",
       "transaction_hour                                                    18   \n",
       "weekend_transaction                                              False   \n",
       "velocity_last_hour   {'num_transactions': 41, 'total_amount': 13804...   \n",
       "is_fraud                                                         False   \n",
       "\n",
       "                                                                     1  \\\n",
       "transaction_id                                             TX_b4fc249b   \n",
       "customer_id                                                 CUST_69172   \n",
       "card_number                                           6964509754759117   \n",
       "timestamp                             2024-10-09 06:10:10.451308+00:00   \n",
       "merchant_category                                                  Gas   \n",
       "merchant_type                                                    local   \n",
       "merchant                                              Highway Gas Stop   \n",
       "amount                                                          340.67   \n",
       "currency                                                           EUR   \n",
       "country                                                        Germany   \n",
       "city                                                      Unknown City   \n",
       "city_size                                                       medium   \n",
       "card_type                                                  Basic Debit   \n",
       "card_present                                                     False   \n",
       "device                                                            Edge   \n",
       "channel                                                            web   \n",
       "device_fingerprint                    027861a2331602e2ab1656dbf181a7d3   \n",
       "ip_address                                             181.218.193.222   \n",
       "distance_from_home                                                   0   \n",
       "high_risk_merchant                                               False   \n",
       "transaction_hour                                                     6   \n",
       "weekend_transaction                                              False   \n",
       "velocity_last_hour   {'num_transactions': 479, 'total_amount': 7698...   \n",
       "is_fraud                                                         False   \n",
       "\n",
       "                                                                     2  \\\n",
       "transaction_id                                             TX_e7a8342f   \n",
       "customer_id                                                 CUST_65854   \n",
       "card_number                                           6340933244890610   \n",
       "timestamp                             2024-10-21 19:39:40.672085+00:00   \n",
       "merchant_category                                               Retail   \n",
       "merchant_type                                                 physical   \n",
       "merchant                                                          IKEA   \n",
       "amount                                                         2026.95   \n",
       "currency                                                           BRL   \n",
       "country                                                         Brazil   \n",
       "city                                                      Unknown City   \n",
       "city_size                                                       medium   \n",
       "card_type                                                Premium Debit   \n",
       "card_present                                                     False   \n",
       "device                                                     Android App   \n",
       "channel                                                         mobile   \n",
       "device_fingerprint                    b2803cbb2c10ae41fe2900cf03c7e295   \n",
       "ip_address                                             253.205.158.226   \n",
       "distance_from_home                                                   0   \n",
       "high_risk_merchant                                               False   \n",
       "transaction_hour                                                    19   \n",
       "weekend_transaction                                              False   \n",
       "velocity_last_hour   {'num_transactions': 35, 'total_amount': 40073...   \n",
       "is_fraud                                                         False   \n",
       "\n",
       "                                                                     3  \\\n",
       "transaction_id                                             TX_af2f6e32   \n",
       "customer_id                                                 CUST_72072   \n",
       "card_number                                            379855553189895   \n",
       "timestamp                             2024-09-30 09:17:29.412544+00:00   \n",
       "merchant_category                                              Grocery   \n",
       "merchant_type                                                   online   \n",
       "merchant                                                  Amazon Fresh   \n",
       "amount                                                         2214.97   \n",
       "currency                                                           BRL   \n",
       "country                                                         Brazil   \n",
       "city                                                      Unknown City   \n",
       "city_size                                                       medium   \n",
       "card_type                                                  Gold Credit   \n",
       "card_present                                                     False   \n",
       "device                                                         Firefox   \n",
       "channel                                                            web   \n",
       "device_fingerprint                    5ef716acb59875102e9c57ab00dd195f   \n",
       "ip_address                                               190.36.191.35   \n",
       "distance_from_home                                                   0   \n",
       "high_risk_merchant                                               False   \n",
       "transaction_hour                                                     9   \n",
       "weekend_transaction                                              False   \n",
       "velocity_last_hour   {'num_transactions': 698, 'total_amount': 1693...   \n",
       "is_fraud                                                         False   \n",
       "\n",
       "                                                                     4  \n",
       "transaction_id                                             TX_2963cca8  \n",
       "customer_id                                                 CUST_47168  \n",
       "card_number                                           4651392195611897  \n",
       "timestamp                             2024-10-23 05:27:59.249798+00:00  \n",
       "merchant_category                                               Travel  \n",
       "merchant_type                                                   hotels  \n",
       "merchant                                                      Marriott  \n",
       "amount                                                        51106.42  \n",
       "currency                                                           RUB  \n",
       "country                                                         Russia  \n",
       "city                                                      Unknown City  \n",
       "city_size                                                       medium  \n",
       "card_type                                                  Gold Credit  \n",
       "card_present                                                     False  \n",
       "device                                                          Safari  \n",
       "channel                                                            web  \n",
       "device_fingerprint                    c28673a4752f5cd46f694a7a01be45b2  \n",
       "ip_address                                                213.120.57.4  \n",
       "distance_from_home                                                   0  \n",
       "high_risk_merchant                                                True  \n",
       "transaction_hour                                                     5  \n",
       "weekend_transaction                                              False  \n",
       "velocity_last_hour   {'num_transactions': 28, 'total_amount': 17946...  \n",
       "is_fraud                                                         False  "
      ]
     },
     "execution_count": 57,
     "metadata": {},
     "output_type": "execute_result"
    }
   ],
   "source": [
    "file_path = \"sampled_fraud_data.csv\"\n",
    "data = pd.read_csv(file_path)\n",
    "\n",
    "# Display the first few rows\n",
    "data.head().T"
   ]
  },
  {
   "cell_type": "code",
   "execution_count": 58,
   "metadata": {
    "colab": {
     "base_uri": "https://localhost:8080/",
     "height": 839
    },
    "id": "GQpvQkN9Yx_b",
    "outputId": "f19a4d0b-017e-4379-acd8-50c038f13ff4"
   },
   "outputs": [],
   "source": [
    "df = pd.DataFrame(data)"
   ]
  },
  {
   "cell_type": "markdown",
   "metadata": {},
   "source": [
    "**converting amount into USD**"
   ]
  },
  {
   "cell_type": "code",
   "execution_count": 60,
   "metadata": {
    "colab": {
     "base_uri": "https://localhost:8080/"
    },
    "id": "PkNUfka_SHHd",
    "outputId": "20cf27c0-ae17-4297-8293-ef31a2e4bd2c"
   },
   "outputs": [
    {
     "data": {
      "text/plain": [
       "array(['RUB', 'EUR', 'BRL', 'CAD', 'AUD', 'USD', 'MXN', 'GBP', 'JPY',\n",
       "       'NGN', 'SGD'], dtype=object)"
      ]
     },
     "execution_count": 60,
     "metadata": {},
     "output_type": "execute_result"
    }
   ],
   "source": [
    "df['currency'].unique()"
   ]
  },
  {
   "cell_type": "code",
   "execution_count": 62,
   "metadata": {
    "colab": {
     "base_uri": "https://localhost:8080/",
     "height": 839
    },
    "id": "niRS2WMpfOhR",
    "outputId": "2cccd8e5-8863-4341-a0cf-505b0caf63cc"
   },
   "outputs": [
    {
     "data": {
      "text/plain": [
       "0      5.432508\n",
       "1    412.210700\n",
       "2     81.078000\n",
       "3     88.598800\n",
       "4      8.636985\n",
       "Name: amount, dtype: float64"
      ]
     },
     "execution_count": 62,
     "metadata": {},
     "output_type": "execute_result"
    }
   ],
   "source": [
    "conversion_rates = {\n",
    "    'USD': 1.0,\n",
    "    'EUR': 1.1,\n",
    "    'GBP': 1.3,\n",
    "    'JPY': 0.0075,\n",
    "    'RUB': 0.013,\n",
    "    'AUD': 0.65,\n",
    "    'BRL': 0.2,\n",
    "    'MXN': 0.05,\n",
    "    'SGD': 0.73,\n",
    "    'CAD': 0.74,\n",
    "    'NGN': 0.002\n",
    "}\n",
    "\n",
    "# Convert amounts to USD\n",
    "df['amount'] = df.apply(\n",
    "    lambda x: x['amount'] * conversion_rates[x['currency']], axis=1\n",
    ")\n",
    "\n",
    "# View the result\n",
    "df['amount'].head()"
   ]
  },
  {
   "cell_type": "markdown",
   "metadata": {
    "id": "15RVJtigbchf"
   },
   "source": [
    "## 2.Exploratory Data Analysis"
   ]
  },
  {
   "cell_type": "code",
   "execution_count": 7,
   "metadata": {
    "colab": {
     "base_uri": "https://localhost:8080/"
    },
    "id": "Ni2KPx4sbb7v",
    "outputId": "3e0d6ff6-b095-4f54-85e4-2f63d1bcfe8e"
   },
   "outputs": [
    {
     "name": "stdout",
     "output_type": "stream",
     "text": [
      "<class 'pandas.core.frame.DataFrame'>\n",
      "RangeIndex: 300000 entries, 0 to 299999\n",
      "Data columns (total 24 columns):\n",
      " #   Column               Non-Null Count   Dtype  \n",
      "---  ------               --------------   -----  \n",
      " 0   transaction_id       300000 non-null  object \n",
      " 1   customer_id          300000 non-null  object \n",
      " 2   card_number          300000 non-null  int64  \n",
      " 3   timestamp            300000 non-null  object \n",
      " 4   merchant_category    300000 non-null  object \n",
      " 5   merchant_type        300000 non-null  object \n",
      " 6   merchant             300000 non-null  object \n",
      " 7   amount               300000 non-null  float64\n",
      " 8   currency             300000 non-null  object \n",
      " 9   country              300000 non-null  object \n",
      " 10  city                 300000 non-null  object \n",
      " 11  city_size            300000 non-null  object \n",
      " 12  card_type            300000 non-null  object \n",
      " 13  card_present         300000 non-null  bool   \n",
      " 14  device               300000 non-null  object \n",
      " 15  channel              300000 non-null  object \n",
      " 16  device_fingerprint   300000 non-null  object \n",
      " 17  ip_address           300000 non-null  object \n",
      " 18  distance_from_home   300000 non-null  int64  \n",
      " 19  high_risk_merchant   300000 non-null  bool   \n",
      " 20  transaction_hour     300000 non-null  int64  \n",
      " 21  weekend_transaction  300000 non-null  bool   \n",
      " 22  velocity_last_hour   300000 non-null  object \n",
      " 23  is_fraud             300000 non-null  bool   \n",
      "dtypes: bool(4), float64(1), int64(3), object(16)\n",
      "memory usage: 46.9+ MB\n"
     ]
    }
   ],
   "source": [
    "df.info()"
   ]
  },
  {
   "cell_type": "code",
   "execution_count": 8,
   "metadata": {
    "colab": {
     "base_uri": "https://localhost:8080/",
     "height": 300
    },
    "id": "wnOTWs5qf3H7",
    "outputId": "ab7841c5-0c84-48d3-f1fb-5cd22a5386a1"
   },
   "outputs": [
    {
     "data": {
      "text/html": [
       "<div>\n",
       "<style scoped>\n",
       "    .dataframe tbody tr th:only-of-type {\n",
       "        vertical-align: middle;\n",
       "    }\n",
       "\n",
       "    .dataframe tbody tr th {\n",
       "        vertical-align: top;\n",
       "    }\n",
       "\n",
       "    .dataframe thead th {\n",
       "        text-align: right;\n",
       "    }\n",
       "</style>\n",
       "<table border=\"1\" class=\"dataframe\">\n",
       "  <thead>\n",
       "    <tr style=\"text-align: right;\">\n",
       "      <th></th>\n",
       "      <th>card_number</th>\n",
       "      <th>amount</th>\n",
       "      <th>distance_from_home</th>\n",
       "      <th>transaction_hour</th>\n",
       "    </tr>\n",
       "  </thead>\n",
       "  <tbody>\n",
       "    <tr>\n",
       "      <th>count</th>\n",
       "      <td>3.000000e+05</td>\n",
       "      <td>300000.000000</td>\n",
       "      <td>300000.000000</td>\n",
       "      <td>300000.000000</td>\n",
       "    </tr>\n",
       "    <tr>\n",
       "      <th>mean</th>\n",
       "      <td>4.217007e+15</td>\n",
       "      <td>615.159298</td>\n",
       "      <td>0.321857</td>\n",
       "      <td>12.169357</td>\n",
       "    </tr>\n",
       "    <tr>\n",
       "      <th>std</th>\n",
       "      <td>2.345357e+15</td>\n",
       "      <td>821.820389</td>\n",
       "      <td>0.467189</td>\n",
       "      <td>6.537271</td>\n",
       "    </tr>\n",
       "    <tr>\n",
       "      <th>min</th>\n",
       "      <td>3.700086e+14</td>\n",
       "      <td>0.008060</td>\n",
       "      <td>0.000000</td>\n",
       "      <td>0.000000</td>\n",
       "    </tr>\n",
       "    <tr>\n",
       "      <th>25%</th>\n",
       "      <td>3.799914e+14</td>\n",
       "      <td>214.487390</td>\n",
       "      <td>0.000000</td>\n",
       "      <td>7.000000</td>\n",
       "    </tr>\n",
       "    <tr>\n",
       "      <th>50%</th>\n",
       "      <td>5.007018e+15</td>\n",
       "      <td>398.422000</td>\n",
       "      <td>0.000000</td>\n",
       "      <td>12.000000</td>\n",
       "    </tr>\n",
       "    <tr>\n",
       "      <th>75%</th>\n",
       "      <td>6.003532e+15</td>\n",
       "      <td>715.960285</td>\n",
       "      <td>1.000000</td>\n",
       "      <td>18.000000</td>\n",
       "    </tr>\n",
       "    <tr>\n",
       "      <th>max</th>\n",
       "      <td>6.999728e+15</td>\n",
       "      <td>14929.206000</td>\n",
       "      <td>1.000000</td>\n",
       "      <td>23.000000</td>\n",
       "    </tr>\n",
       "  </tbody>\n",
       "</table>\n",
       "</div>"
      ],
      "text/plain": [
       "        card_number         amount  distance_from_home  transaction_hour\n",
       "count  3.000000e+05  300000.000000       300000.000000     300000.000000\n",
       "mean   4.217007e+15     615.159298            0.321857         12.169357\n",
       "std    2.345357e+15     821.820389            0.467189          6.537271\n",
       "min    3.700086e+14       0.008060            0.000000          0.000000\n",
       "25%    3.799914e+14     214.487390            0.000000          7.000000\n",
       "50%    5.007018e+15     398.422000            0.000000         12.000000\n",
       "75%    6.003532e+15     715.960285            1.000000         18.000000\n",
       "max    6.999728e+15   14929.206000            1.000000         23.000000"
      ]
     },
     "execution_count": 8,
     "metadata": {},
     "output_type": "execute_result"
    }
   ],
   "source": [
    "df.describe()"
   ]
  },
  {
   "cell_type": "markdown",
   "metadata": {},
   "source": [
    "**Dropping the columns that are not needed.**"
   ]
  },
  {
   "cell_type": "code",
   "execution_count": 63,
   "metadata": {
    "id": "ISFvpo1jghdp"
   },
   "outputs": [],
   "source": [
    "df.drop(['transaction_id', 'customer_id', 'card_number', 'ip_address', 'device_fingerprint', 'currency'], axis = 1, inplace = True)"
   ]
  },
  {
   "cell_type": "code",
   "execution_count": 64,
   "metadata": {
    "colab": {
     "base_uri": "https://localhost:8080/"
    },
    "id": "RHjDjX9Sgsx4",
    "outputId": "75e58181-9c4b-4b12-aeb4-a61abe68fbd7"
   },
   "outputs": [
    {
     "data": {
      "text/plain": [
       "(300000, 18)"
      ]
     },
     "execution_count": 64,
     "metadata": {},
     "output_type": "execute_result"
    }
   ],
   "source": [
    "df.shape"
   ]
  },
  {
   "cell_type": "markdown",
   "metadata": {},
   "source": [
    "**converting boolean columns into int - 1,0**"
   ]
  },
  {
   "cell_type": "code",
   "execution_count": 65,
   "metadata": {
    "colab": {
     "base_uri": "https://localhost:8080/"
    },
    "id": "b1NzBrpwiJ0o",
    "outputId": "e23d9e32-7908-4927-9f21-9159f0ccd108"
   },
   "outputs": [
    {
     "name": "stdout",
     "output_type": "stream",
     "text": [
      "card_present\n",
      "[False  True]\n",
      "\n",
      "high_risk_merchant\n",
      "[False  True]\n",
      "\n",
      "weekend_transaction\n",
      "[False  True]\n",
      "\n",
      "is_fraud\n",
      "[False  True]\n",
      "\n"
     ]
    }
   ],
   "source": [
    "boolean_columns = df.select_dtypes('boolean').columns\n",
    "for boolean_col in boolean_columns:\n",
    "  print(boolean_col)\n",
    "  print(df[boolean_col].unique())\n",
    "  print()\n"
   ]
  },
  {
   "cell_type": "code",
   "execution_count": 66,
   "metadata": {
    "id": "1H0KomDY2LDm"
   },
   "outputs": [],
   "source": [
    "for boolean_col in boolean_columns:\n",
    "  df[boolean_col] = df[boolean_col].astype(int)"
   ]
  },
  {
   "cell_type": "markdown",
   "metadata": {},
   "source": [
    "**unfloding the values in 'velocity_last_hour'**"
   ]
  },
  {
   "cell_type": "code",
   "execution_count": 67,
   "metadata": {
    "colab": {
     "base_uri": "https://localhost:8080/"
    },
    "id": "N5KvP-Fkig_Y",
    "outputId": "0dbe1e7d-ccf0-4f99-8554-9e747632434d"
   },
   "outputs": [
    {
     "name": "stdout",
     "output_type": "stream",
     "text": [
      "(\"{'num_transactions': 41, 'total_amount': 138045.7077807439, \"\n",
      " \"'unique_merchants': 31, 'unique_countries': 8, 'max_single_amount': \"\n",
      " '35071.313172422044}')\n"
     ]
    }
   ],
   "source": [
    "import pprint\n",
    "\n",
    "transaction_velocity = df['velocity_last_hour'].iloc[0]\n",
    "pprint.pprint(transaction_velocity)\n"
   ]
  },
  {
   "cell_type": "code",
   "execution_count": 68,
   "metadata": {
    "id": "Nc7s3FFwA4Jr"
   },
   "outputs": [],
   "source": [
    "import ast\n",
    "# Step 1: Parse velocity_last_hour if it's stored as a string\n",
    "if isinstance(df['velocity_last_hour'].iloc[0], str):\n",
    "    df['velocity_last_hour'] = df['velocity_last_hour'].apply(ast.literal_eval)\n",
    "\n",
    "# Step 2: Extract each metric from the dictionary\n",
    "df['num_transactions_in_last_hour'] = df['velocity_last_hour'].apply(lambda x: x.get('num_transactions', 0))\n",
    "df['total_amount_in_last_hour'] = df['velocity_last_hour'].apply(lambda x: x.get('total_amount', 0.0))\n",
    "df['unique_merchants_in_last_hour'] = df['velocity_last_hour'].apply(lambda x: x.get('unique_merchants', 0))\n",
    "df['unique_countries_in_last_hour'] = df['velocity_last_hour'].apply(lambda x: x.get('unique_countries', 0))\n",
    "df['max_single_amount_in_last_hour'] = df['velocity_last_hour'].apply(lambda x: x.get('max_single_amount', 0.0))\n",
    "\n",
    "\n"
   ]
  },
  {
   "cell_type": "code",
   "execution_count": 69,
   "metadata": {
    "colab": {
     "base_uri": "https://localhost:8080/",
     "height": 756
    },
    "id": "n4GdeGgkCGRW",
    "outputId": "67b559d1-d9a0-4a44-e327-cd1f839c4be6"
   },
   "outputs": [
    {
     "data": {
      "text/html": [
       "<div>\n",
       "<style scoped>\n",
       "    .dataframe tbody tr th:only-of-type {\n",
       "        vertical-align: middle;\n",
       "    }\n",
       "\n",
       "    .dataframe tbody tr th {\n",
       "        vertical-align: top;\n",
       "    }\n",
       "\n",
       "    .dataframe thead th {\n",
       "        text-align: right;\n",
       "    }\n",
       "</style>\n",
       "<table border=\"1\" class=\"dataframe\">\n",
       "  <thead>\n",
       "    <tr style=\"text-align: right;\">\n",
       "      <th></th>\n",
       "      <th>0</th>\n",
       "      <th>1</th>\n",
       "      <th>2</th>\n",
       "      <th>3</th>\n",
       "      <th>4</th>\n",
       "    </tr>\n",
       "  </thead>\n",
       "  <tbody>\n",
       "    <tr>\n",
       "      <th>timestamp</th>\n",
       "      <td>2024-10-28 18:44:19.628914+00:00</td>\n",
       "      <td>2024-10-09 06:10:10.451308+00:00</td>\n",
       "      <td>2024-10-21 19:39:40.672085+00:00</td>\n",
       "      <td>2024-09-30 09:17:29.412544+00:00</td>\n",
       "      <td>2024-10-23 05:27:59.249798+00:00</td>\n",
       "    </tr>\n",
       "    <tr>\n",
       "      <th>merchant_category</th>\n",
       "      <td>Gas</td>\n",
       "      <td>Gas</td>\n",
       "      <td>Retail</td>\n",
       "      <td>Grocery</td>\n",
       "      <td>Travel</td>\n",
       "    </tr>\n",
       "    <tr>\n",
       "      <th>merchant_type</th>\n",
       "      <td>major</td>\n",
       "      <td>local</td>\n",
       "      <td>physical</td>\n",
       "      <td>online</td>\n",
       "      <td>hotels</td>\n",
       "    </tr>\n",
       "    <tr>\n",
       "      <th>merchant</th>\n",
       "      <td>Mobil</td>\n",
       "      <td>Highway Gas Stop</td>\n",
       "      <td>IKEA</td>\n",
       "      <td>Amazon Fresh</td>\n",
       "      <td>Marriott</td>\n",
       "    </tr>\n",
       "    <tr>\n",
       "      <th>amount</th>\n",
       "      <td>5.432508</td>\n",
       "      <td>412.2107</td>\n",
       "      <td>81.078</td>\n",
       "      <td>88.5988</td>\n",
       "      <td>8.636985</td>\n",
       "    </tr>\n",
       "    <tr>\n",
       "      <th>country</th>\n",
       "      <td>Russia</td>\n",
       "      <td>Germany</td>\n",
       "      <td>Brazil</td>\n",
       "      <td>Brazil</td>\n",
       "      <td>Russia</td>\n",
       "    </tr>\n",
       "    <tr>\n",
       "      <th>city</th>\n",
       "      <td>Unknown City</td>\n",
       "      <td>Unknown City</td>\n",
       "      <td>Unknown City</td>\n",
       "      <td>Unknown City</td>\n",
       "      <td>Unknown City</td>\n",
       "    </tr>\n",
       "    <tr>\n",
       "      <th>city_size</th>\n",
       "      <td>medium</td>\n",
       "      <td>medium</td>\n",
       "      <td>medium</td>\n",
       "      <td>medium</td>\n",
       "      <td>medium</td>\n",
       "    </tr>\n",
       "    <tr>\n",
       "      <th>card_type</th>\n",
       "      <td>Premium Debit</td>\n",
       "      <td>Basic Debit</td>\n",
       "      <td>Premium Debit</td>\n",
       "      <td>Gold Credit</td>\n",
       "      <td>Gold Credit</td>\n",
       "    </tr>\n",
       "    <tr>\n",
       "      <th>card_present</th>\n",
       "      <td>0</td>\n",
       "      <td>0</td>\n",
       "      <td>0</td>\n",
       "      <td>0</td>\n",
       "      <td>0</td>\n",
       "    </tr>\n",
       "    <tr>\n",
       "      <th>device</th>\n",
       "      <td>iOS App</td>\n",
       "      <td>Edge</td>\n",
       "      <td>Android App</td>\n",
       "      <td>Firefox</td>\n",
       "      <td>Safari</td>\n",
       "    </tr>\n",
       "    <tr>\n",
       "      <th>channel</th>\n",
       "      <td>mobile</td>\n",
       "      <td>web</td>\n",
       "      <td>mobile</td>\n",
       "      <td>web</td>\n",
       "      <td>web</td>\n",
       "    </tr>\n",
       "    <tr>\n",
       "      <th>distance_from_home</th>\n",
       "      <td>1</td>\n",
       "      <td>0</td>\n",
       "      <td>0</td>\n",
       "      <td>0</td>\n",
       "      <td>0</td>\n",
       "    </tr>\n",
       "    <tr>\n",
       "      <th>high_risk_merchant</th>\n",
       "      <td>0</td>\n",
       "      <td>0</td>\n",
       "      <td>0</td>\n",
       "      <td>0</td>\n",
       "      <td>1</td>\n",
       "    </tr>\n",
       "    <tr>\n",
       "      <th>transaction_hour</th>\n",
       "      <td>18</td>\n",
       "      <td>6</td>\n",
       "      <td>19</td>\n",
       "      <td>9</td>\n",
       "      <td>5</td>\n",
       "    </tr>\n",
       "    <tr>\n",
       "      <th>weekend_transaction</th>\n",
       "      <td>0</td>\n",
       "      <td>0</td>\n",
       "      <td>0</td>\n",
       "      <td>0</td>\n",
       "      <td>0</td>\n",
       "    </tr>\n",
       "    <tr>\n",
       "      <th>is_fraud</th>\n",
       "      <td>0</td>\n",
       "      <td>0</td>\n",
       "      <td>0</td>\n",
       "      <td>0</td>\n",
       "      <td>0</td>\n",
       "    </tr>\n",
       "    <tr>\n",
       "      <th>num_transactions_in_last_hour</th>\n",
       "      <td>41</td>\n",
       "      <td>479</td>\n",
       "      <td>35</td>\n",
       "      <td>698</td>\n",
       "      <td>28</td>\n",
       "    </tr>\n",
       "    <tr>\n",
       "      <th>total_amount_in_last_hour</th>\n",
       "      <td>138045.707781</td>\n",
       "      <td>7698751.077863</td>\n",
       "      <td>400737.177483</td>\n",
       "      <td>16935650.517509</td>\n",
       "      <td>1794695.499582</td>\n",
       "    </tr>\n",
       "    <tr>\n",
       "      <th>unique_merchants_in_last_hour</th>\n",
       "      <td>31</td>\n",
       "      <td>97</td>\n",
       "      <td>29</td>\n",
       "      <td>105</td>\n",
       "      <td>25</td>\n",
       "    </tr>\n",
       "    <tr>\n",
       "      <th>unique_countries_in_last_hour</th>\n",
       "      <td>8</td>\n",
       "      <td>12</td>\n",
       "      <td>6</td>\n",
       "      <td>12</td>\n",
       "      <td>5</td>\n",
       "    </tr>\n",
       "    <tr>\n",
       "      <th>max_single_amount_in_last_hour</th>\n",
       "      <td>35071.313172</td>\n",
       "      <td>932888.529318</td>\n",
       "      <td>184403.515861</td>\n",
       "      <td>1052277.089555</td>\n",
       "      <td>451648.942984</td>\n",
       "    </tr>\n",
       "  </tbody>\n",
       "</table>\n",
       "</div>"
      ],
      "text/plain": [
       "                                                               0  \\\n",
       "timestamp                       2024-10-28 18:44:19.628914+00:00   \n",
       "merchant_category                                            Gas   \n",
       "merchant_type                                              major   \n",
       "merchant                                                   Mobil   \n",
       "amount                                                  5.432508   \n",
       "country                                                   Russia   \n",
       "city                                                Unknown City   \n",
       "city_size                                                 medium   \n",
       "card_type                                          Premium Debit   \n",
       "card_present                                                   0   \n",
       "device                                                   iOS App   \n",
       "channel                                                   mobile   \n",
       "distance_from_home                                             1   \n",
       "high_risk_merchant                                             0   \n",
       "transaction_hour                                              18   \n",
       "weekend_transaction                                            0   \n",
       "is_fraud                                                       0   \n",
       "num_transactions_in_last_hour                                 41   \n",
       "total_amount_in_last_hour                          138045.707781   \n",
       "unique_merchants_in_last_hour                                 31   \n",
       "unique_countries_in_last_hour                                  8   \n",
       "max_single_amount_in_last_hour                      35071.313172   \n",
       "\n",
       "                                                               1  \\\n",
       "timestamp                       2024-10-09 06:10:10.451308+00:00   \n",
       "merchant_category                                            Gas   \n",
       "merchant_type                                              local   \n",
       "merchant                                        Highway Gas Stop   \n",
       "amount                                                  412.2107   \n",
       "country                                                  Germany   \n",
       "city                                                Unknown City   \n",
       "city_size                                                 medium   \n",
       "card_type                                            Basic Debit   \n",
       "card_present                                                   0   \n",
       "device                                                      Edge   \n",
       "channel                                                      web   \n",
       "distance_from_home                                             0   \n",
       "high_risk_merchant                                             0   \n",
       "transaction_hour                                               6   \n",
       "weekend_transaction                                            0   \n",
       "is_fraud                                                       0   \n",
       "num_transactions_in_last_hour                                479   \n",
       "total_amount_in_last_hour                         7698751.077863   \n",
       "unique_merchants_in_last_hour                                 97   \n",
       "unique_countries_in_last_hour                                 12   \n",
       "max_single_amount_in_last_hour                     932888.529318   \n",
       "\n",
       "                                                               2  \\\n",
       "timestamp                       2024-10-21 19:39:40.672085+00:00   \n",
       "merchant_category                                         Retail   \n",
       "merchant_type                                           physical   \n",
       "merchant                                                    IKEA   \n",
       "amount                                                    81.078   \n",
       "country                                                   Brazil   \n",
       "city                                                Unknown City   \n",
       "city_size                                                 medium   \n",
       "card_type                                          Premium Debit   \n",
       "card_present                                                   0   \n",
       "device                                               Android App   \n",
       "channel                                                   mobile   \n",
       "distance_from_home                                             0   \n",
       "high_risk_merchant                                             0   \n",
       "transaction_hour                                              19   \n",
       "weekend_transaction                                            0   \n",
       "is_fraud                                                       0   \n",
       "num_transactions_in_last_hour                                 35   \n",
       "total_amount_in_last_hour                          400737.177483   \n",
       "unique_merchants_in_last_hour                                 29   \n",
       "unique_countries_in_last_hour                                  6   \n",
       "max_single_amount_in_last_hour                     184403.515861   \n",
       "\n",
       "                                                               3  \\\n",
       "timestamp                       2024-09-30 09:17:29.412544+00:00   \n",
       "merchant_category                                        Grocery   \n",
       "merchant_type                                             online   \n",
       "merchant                                            Amazon Fresh   \n",
       "amount                                                   88.5988   \n",
       "country                                                   Brazil   \n",
       "city                                                Unknown City   \n",
       "city_size                                                 medium   \n",
       "card_type                                            Gold Credit   \n",
       "card_present                                                   0   \n",
       "device                                                   Firefox   \n",
       "channel                                                      web   \n",
       "distance_from_home                                             0   \n",
       "high_risk_merchant                                             0   \n",
       "transaction_hour                                               9   \n",
       "weekend_transaction                                            0   \n",
       "is_fraud                                                       0   \n",
       "num_transactions_in_last_hour                                698   \n",
       "total_amount_in_last_hour                        16935650.517509   \n",
       "unique_merchants_in_last_hour                                105   \n",
       "unique_countries_in_last_hour                                 12   \n",
       "max_single_amount_in_last_hour                    1052277.089555   \n",
       "\n",
       "                                                               4  \n",
       "timestamp                       2024-10-23 05:27:59.249798+00:00  \n",
       "merchant_category                                         Travel  \n",
       "merchant_type                                             hotels  \n",
       "merchant                                                Marriott  \n",
       "amount                                                  8.636985  \n",
       "country                                                   Russia  \n",
       "city                                                Unknown City  \n",
       "city_size                                                 medium  \n",
       "card_type                                            Gold Credit  \n",
       "card_present                                                   0  \n",
       "device                                                    Safari  \n",
       "channel                                                      web  \n",
       "distance_from_home                                             0  \n",
       "high_risk_merchant                                             1  \n",
       "transaction_hour                                               5  \n",
       "weekend_transaction                                            0  \n",
       "is_fraud                                                       0  \n",
       "num_transactions_in_last_hour                                 28  \n",
       "total_amount_in_last_hour                         1794695.499582  \n",
       "unique_merchants_in_last_hour                                 25  \n",
       "unique_countries_in_last_hour                                  5  \n",
       "max_single_amount_in_last_hour                     451648.942984  "
      ]
     },
     "execution_count": 69,
     "metadata": {},
     "output_type": "execute_result"
    }
   ],
   "source": [
    "df = df.drop(columns=['velocity_last_hour'])\n",
    "\n",
    "df.head().T"
   ]
  },
  {
   "cell_type": "markdown",
   "metadata": {},
   "source": [
    "**Verifying the effect of transaction at different times in a day**"
   ]
  },
  {
   "cell_type": "code",
   "execution_count": 70,
   "metadata": {
    "id": "-iIsjgGciVAG"
   },
   "outputs": [],
   "source": [
    "## Convert timestamp column into different data type\n",
    "df['timestamp'] = pd.to_datetime(df['timestamp'], format='ISO8601')"
   ]
  },
  {
   "cell_type": "code",
   "execution_count": 71,
   "metadata": {
    "id": "rtYeSnZlkPjS"
   },
   "outputs": [],
   "source": [
    "df['year'] = df['timestamp'].dt.year\n",
    "df['month'] = df['timestamp'].dt.month\n",
    "df['day'] = df['timestamp'].dt.day\n",
    "df['hour'] = df['timestamp'].dt.hour\n",
    "df.drop('timestamp', axis = 1, inplace = True)"
   ]
  },
  {
   "cell_type": "code",
   "execution_count": 72,
   "metadata": {
    "colab": {
     "base_uri": "https://localhost:8080/",
     "height": 867
    },
    "id": "xjhNhWutC6s7",
    "outputId": "b6d26e45-b89d-4843-dfbe-9c3b907e55b7"
   },
   "outputs": [
    {
     "data": {
      "text/plain": [
       "merchant_category                  object\n",
       "merchant_type                      object\n",
       "merchant                           object\n",
       "amount                            float64\n",
       "country                            object\n",
       "city                               object\n",
       "city_size                          object\n",
       "card_type                          object\n",
       "card_present                        int64\n",
       "device                             object\n",
       "channel                            object\n",
       "distance_from_home                  int64\n",
       "high_risk_merchant                  int64\n",
       "transaction_hour                    int64\n",
       "weekend_transaction                 int64\n",
       "is_fraud                            int64\n",
       "num_transactions_in_last_hour       int64\n",
       "total_amount_in_last_hour         float64\n",
       "unique_merchants_in_last_hour       int64\n",
       "unique_countries_in_last_hour       int64\n",
       "max_single_amount_in_last_hour    float64\n",
       "year                                int32\n",
       "month                               int32\n",
       "day                                 int32\n",
       "hour                                int32\n",
       "dtype: object"
      ]
     },
     "execution_count": 72,
     "metadata": {},
     "output_type": "execute_result"
    }
   ],
   "source": [
    "df.dtypes"
   ]
  },
  {
   "cell_type": "markdown",
   "metadata": {},
   "source": [
    "## 3.Splitting the data"
   ]
  },
  {
   "cell_type": "code",
   "execution_count": 73,
   "metadata": {
    "colab": {
     "base_uri": "https://localhost:8080/"
    },
    "id": "kkxSocEXMQZ2",
    "outputId": "a9fc4269-c363-4fa3-e1cf-f5a8be57ce65"
   },
   "outputs": [
    {
     "data": {
      "text/plain": [
       "(180000, 60000, 60000)"
      ]
     },
     "execution_count": 73,
     "metadata": {},
     "output_type": "execute_result"
    }
   ],
   "source": [
    "from sklearn.model_selection import train_test_split\n",
    "\n",
    "df_full_train, df_test = train_test_split(df, test_size=0.2, random_state=1)\n",
    "\n",
    "# train and validation\n",
    "\n",
    "df_train, df_val = train_test_split(df_full_train, test_size=0.25, random_state=1)\n",
    "\n",
    "len(df_train), len(df_val), len(df_test)"
   ]
  },
  {
   "cell_type": "code",
   "execution_count": 74,
   "metadata": {
    "id": "fEz8LFOUMnz-"
   },
   "outputs": [],
   "source": [
    "df_train = df_train.reset_index(drop=True)\n",
    "df_val = df_val.reset_index(drop=True)\n",
    "df_test = df_test.reset_index(drop=True)"
   ]
  },
  {
   "cell_type": "code",
   "execution_count": 75,
   "metadata": {
    "id": "ZOoCZRTAMsnx"
   },
   "outputs": [],
   "source": [
    "y_train = df_train.is_fraud.values\n",
    "y_val = df_val.is_fraud.values\n",
    "y_test = df_test.is_fraud.values"
   ]
  },
  {
   "cell_type": "code",
   "execution_count": 76,
   "metadata": {
    "id": "WYPgl8DRM5xx"
   },
   "outputs": [],
   "source": [
    "del df_train['is_fraud']\n",
    "del df_val['is_fraud']\n",
    "del df_test['is_fraud']"
   ]
  },
  {
   "cell_type": "markdown",
   "metadata": {},
   "source": [
    "## 4. Feature selection"
   ]
  },
  {
   "cell_type": "code",
   "execution_count": 77,
   "metadata": {
    "id": "d8UpvULuD0t5"
   },
   "outputs": [],
   "source": [
    "numerical = ['amount',\n",
    "             'distance_from_home',\n",
    "             'high_risk_merchant',\n",
    "             'transaction_hour',\n",
    "             'weekend_transaction',\n",
    "             'num_transactions_in_last_hour',\n",
    "             'total_amount_in_last_hour',\n",
    "             'unique_merchants_in_last_hour',\n",
    "             'unique_countries_in_last_hour',\n",
    "             'max_single_amount_in_last_hour']\n"
   ]
  },
  {
   "cell_type": "code",
   "execution_count": 78,
   "metadata": {
    "id": "sW1BhK77Dg7o"
   },
   "outputs": [],
   "source": [
    "categorical = ['merchant_category',\n",
    "               'merchant_type',\n",
    "               'merchant',\n",
    "               'country',\n",
    "               'city',\n",
    "               'city_size',\n",
    "               'card_type',\n",
    "               'card_present',\n",
    "               'device',\n",
    "               'channel',\n",
    "               'year',\n",
    "               'month',\n",
    "               'day',\n",
    "               'hour']"
   ]
  },
  {
   "cell_type": "markdown",
   "metadata": {
    "id": "WMIW42tHLyXP"
   },
   "source": [
    "**Mutual Information**"
   ]
  },
  {
   "cell_type": "code",
   "execution_count": 79,
   "metadata": {
    "colab": {
     "base_uri": "https://localhost:8080/",
     "height": 523
    },
    "id": "S4hjbmNHHvNg",
    "outputId": "3bc62996-cc79-427b-973f-a936079256f6"
   },
   "outputs": [
    {
     "data": {
      "text/plain": [
       "device               0.157538\n",
       "channel              0.157473\n",
       "card_present         0.157472\n",
       "hour                 0.073207\n",
       "country              0.071053\n",
       "city                 0.004055\n",
       "city_size            0.001553\n",
       "merchant             0.000180\n",
       "day                  0.000080\n",
       "merchant_type        0.000022\n",
       "card_type            0.000013\n",
       "merchant_category    0.000006\n",
       "month                0.000003\n",
       "year                 0.000000\n",
       "dtype: float64"
      ]
     },
     "execution_count": 79,
     "metadata": {},
     "output_type": "execute_result"
    }
   ],
   "source": [
    "from sklearn.metrics import mutual_info_score\n",
    "\n",
    "def mutual_info_churn_score(series):\n",
    "    return mutual_info_score(series, df_full_train.is_fraud)\n",
    "\n",
    "\n",
    "mi = df_full_train[categorical].apply(mutual_info_churn_score)\n",
    "mi.sort_values(ascending=False)\n"
   ]
  },
  {
   "cell_type": "markdown",
   "metadata": {
    "id": "oJj9by19QMf1"
   },
   "source": [
    "**High Mutual Information (MI) Scores:**\n",
    "- device,\n",
    "- channel,\n",
    "- card_present\n",
    "\n",
    "\n",
    "\n",
    "**Moderate Mutual Information (MI) Scores:**\n",
    "- transaction_hour,\n",
    "- country,\n",
    "- currency\n",
    "\n",
    "**Low Mutual Information (MI) Scores:**\n",
    "\n",
    "- city,\n",
    "- city_size,\n",
    "- merchant,\n",
    "- day,\n",
    "- merchant_type,\n",
    "- card_type,\n",
    "- merchant_category,\n",
    "- month,\n",
    "- year\n"
   ]
  },
  {
   "cell_type": "code",
   "execution_count": 80,
   "metadata": {
    "id": "n8nLwdU0pc5Y"
   },
   "outputs": [],
   "source": [
    "from sklearn.linear_model import LogisticRegression\n",
    "from sklearn.metrics import accuracy_score, confusion_matrix, classification_report\n",
    "from sklearn.feature_extraction import DictVectorizer\n",
    "from sklearn.metrics import roc_auc_score"
   ]
  },
  {
   "cell_type": "code",
   "execution_count": 81,
   "metadata": {
    "colab": {
     "base_uri": "https://localhost:8080/",
     "height": 219
    },
    "id": "jpFoe2H5xmCO",
    "outputId": "3cee4b6b-fbb0-4edb-a7e0-09bc39fe8f47"
   },
   "outputs": [
    {
     "name": "stderr",
     "output_type": "stream",
     "text": [
      "/Library/Frameworks/Python.framework/Versions/3.11/lib/python3.11/site-packages/sklearn/linear_model/_logistic.py:469: ConvergenceWarning: lbfgs failed to converge (status=1):\n",
      "STOP: TOTAL NO. of ITERATIONS REACHED LIMIT.\n",
      "\n",
      "Increase the number of iterations (max_iter) or scale the data as shown in:\n",
      "    https://scikit-learn.org/stable/modules/preprocessing.html\n",
      "Please also refer to the documentation for alternative solver options:\n",
      "    https://scikit-learn.org/stable/modules/linear_model.html#logistic-regression\n",
      "  n_iter_i = _check_optimize_result(\n"
     ]
    },
    {
     "data": {
      "text/html": [
       "<style>#sk-container-id-3 {\n",
       "  /* Definition of color scheme common for light and dark mode */\n",
       "  --sklearn-color-text: black;\n",
       "  --sklearn-color-line: gray;\n",
       "  /* Definition of color scheme for unfitted estimators */\n",
       "  --sklearn-color-unfitted-level-0: #fff5e6;\n",
       "  --sklearn-color-unfitted-level-1: #f6e4d2;\n",
       "  --sklearn-color-unfitted-level-2: #ffe0b3;\n",
       "  --sklearn-color-unfitted-level-3: chocolate;\n",
       "  /* Definition of color scheme for fitted estimators */\n",
       "  --sklearn-color-fitted-level-0: #f0f8ff;\n",
       "  --sklearn-color-fitted-level-1: #d4ebff;\n",
       "  --sklearn-color-fitted-level-2: #b3dbfd;\n",
       "  --sklearn-color-fitted-level-3: cornflowerblue;\n",
       "\n",
       "  /* Specific color for light theme */\n",
       "  --sklearn-color-text-on-default-background: var(--sg-text-color, var(--theme-code-foreground, var(--jp-content-font-color1, black)));\n",
       "  --sklearn-color-background: var(--sg-background-color, var(--theme-background, var(--jp-layout-color0, white)));\n",
       "  --sklearn-color-border-box: var(--sg-text-color, var(--theme-code-foreground, var(--jp-content-font-color1, black)));\n",
       "  --sklearn-color-icon: #696969;\n",
       "\n",
       "  @media (prefers-color-scheme: dark) {\n",
       "    /* Redefinition of color scheme for dark theme */\n",
       "    --sklearn-color-text-on-default-background: var(--sg-text-color, var(--theme-code-foreground, var(--jp-content-font-color1, white)));\n",
       "    --sklearn-color-background: var(--sg-background-color, var(--theme-background, var(--jp-layout-color0, #111)));\n",
       "    --sklearn-color-border-box: var(--sg-text-color, var(--theme-code-foreground, var(--jp-content-font-color1, white)));\n",
       "    --sklearn-color-icon: #878787;\n",
       "  }\n",
       "}\n",
       "\n",
       "#sk-container-id-3 {\n",
       "  color: var(--sklearn-color-text);\n",
       "}\n",
       "\n",
       "#sk-container-id-3 pre {\n",
       "  padding: 0;\n",
       "}\n",
       "\n",
       "#sk-container-id-3 input.sk-hidden--visually {\n",
       "  border: 0;\n",
       "  clip: rect(1px 1px 1px 1px);\n",
       "  clip: rect(1px, 1px, 1px, 1px);\n",
       "  height: 1px;\n",
       "  margin: -1px;\n",
       "  overflow: hidden;\n",
       "  padding: 0;\n",
       "  position: absolute;\n",
       "  width: 1px;\n",
       "}\n",
       "\n",
       "#sk-container-id-3 div.sk-dashed-wrapped {\n",
       "  border: 1px dashed var(--sklearn-color-line);\n",
       "  margin: 0 0.4em 0.5em 0.4em;\n",
       "  box-sizing: border-box;\n",
       "  padding-bottom: 0.4em;\n",
       "  background-color: var(--sklearn-color-background);\n",
       "}\n",
       "\n",
       "#sk-container-id-3 div.sk-container {\n",
       "  /* jupyter's `normalize.less` sets `[hidden] { display: none; }`\n",
       "     but bootstrap.min.css set `[hidden] { display: none !important; }`\n",
       "     so we also need the `!important` here to be able to override the\n",
       "     default hidden behavior on the sphinx rendered scikit-learn.org.\n",
       "     See: https://github.com/scikit-learn/scikit-learn/issues/21755 */\n",
       "  display: inline-block !important;\n",
       "  position: relative;\n",
       "}\n",
       "\n",
       "#sk-container-id-3 div.sk-text-repr-fallback {\n",
       "  display: none;\n",
       "}\n",
       "\n",
       "div.sk-parallel-item,\n",
       "div.sk-serial,\n",
       "div.sk-item {\n",
       "  /* draw centered vertical line to link estimators */\n",
       "  background-image: linear-gradient(var(--sklearn-color-text-on-default-background), var(--sklearn-color-text-on-default-background));\n",
       "  background-size: 2px 100%;\n",
       "  background-repeat: no-repeat;\n",
       "  background-position: center center;\n",
       "}\n",
       "\n",
       "/* Parallel-specific style estimator block */\n",
       "\n",
       "#sk-container-id-3 div.sk-parallel-item::after {\n",
       "  content: \"\";\n",
       "  width: 100%;\n",
       "  border-bottom: 2px solid var(--sklearn-color-text-on-default-background);\n",
       "  flex-grow: 1;\n",
       "}\n",
       "\n",
       "#sk-container-id-3 div.sk-parallel {\n",
       "  display: flex;\n",
       "  align-items: stretch;\n",
       "  justify-content: center;\n",
       "  background-color: var(--sklearn-color-background);\n",
       "  position: relative;\n",
       "}\n",
       "\n",
       "#sk-container-id-3 div.sk-parallel-item {\n",
       "  display: flex;\n",
       "  flex-direction: column;\n",
       "}\n",
       "\n",
       "#sk-container-id-3 div.sk-parallel-item:first-child::after {\n",
       "  align-self: flex-end;\n",
       "  width: 50%;\n",
       "}\n",
       "\n",
       "#sk-container-id-3 div.sk-parallel-item:last-child::after {\n",
       "  align-self: flex-start;\n",
       "  width: 50%;\n",
       "}\n",
       "\n",
       "#sk-container-id-3 div.sk-parallel-item:only-child::after {\n",
       "  width: 0;\n",
       "}\n",
       "\n",
       "/* Serial-specific style estimator block */\n",
       "\n",
       "#sk-container-id-3 div.sk-serial {\n",
       "  display: flex;\n",
       "  flex-direction: column;\n",
       "  align-items: center;\n",
       "  background-color: var(--sklearn-color-background);\n",
       "  padding-right: 1em;\n",
       "  padding-left: 1em;\n",
       "}\n",
       "\n",
       "\n",
       "/* Toggleable style: style used for estimator/Pipeline/ColumnTransformer box that is\n",
       "clickable and can be expanded/collapsed.\n",
       "- Pipeline and ColumnTransformer use this feature and define the default style\n",
       "- Estimators will overwrite some part of the style using the `sk-estimator` class\n",
       "*/\n",
       "\n",
       "/* Pipeline and ColumnTransformer style (default) */\n",
       "\n",
       "#sk-container-id-3 div.sk-toggleable {\n",
       "  /* Default theme specific background. It is overwritten whether we have a\n",
       "  specific estimator or a Pipeline/ColumnTransformer */\n",
       "  background-color: var(--sklearn-color-background);\n",
       "}\n",
       "\n",
       "/* Toggleable label */\n",
       "#sk-container-id-3 label.sk-toggleable__label {\n",
       "  cursor: pointer;\n",
       "  display: block;\n",
       "  width: 100%;\n",
       "  margin-bottom: 0;\n",
       "  padding: 0.5em;\n",
       "  box-sizing: border-box;\n",
       "  text-align: center;\n",
       "}\n",
       "\n",
       "#sk-container-id-3 label.sk-toggleable__label-arrow:before {\n",
       "  /* Arrow on the left of the label */\n",
       "  content: \"▸\";\n",
       "  float: left;\n",
       "  margin-right: 0.25em;\n",
       "  color: var(--sklearn-color-icon);\n",
       "}\n",
       "\n",
       "#sk-container-id-3 label.sk-toggleable__label-arrow:hover:before {\n",
       "  color: var(--sklearn-color-text);\n",
       "}\n",
       "\n",
       "/* Toggleable content - dropdown */\n",
       "\n",
       "#sk-container-id-3 div.sk-toggleable__content {\n",
       "  max-height: 0;\n",
       "  max-width: 0;\n",
       "  overflow: hidden;\n",
       "  text-align: left;\n",
       "  /* unfitted */\n",
       "  background-color: var(--sklearn-color-unfitted-level-0);\n",
       "}\n",
       "\n",
       "#sk-container-id-3 div.sk-toggleable__content.fitted {\n",
       "  /* fitted */\n",
       "  background-color: var(--sklearn-color-fitted-level-0);\n",
       "}\n",
       "\n",
       "#sk-container-id-3 div.sk-toggleable__content pre {\n",
       "  margin: 0.2em;\n",
       "  border-radius: 0.25em;\n",
       "  color: var(--sklearn-color-text);\n",
       "  /* unfitted */\n",
       "  background-color: var(--sklearn-color-unfitted-level-0);\n",
       "}\n",
       "\n",
       "#sk-container-id-3 div.sk-toggleable__content.fitted pre {\n",
       "  /* unfitted */\n",
       "  background-color: var(--sklearn-color-fitted-level-0);\n",
       "}\n",
       "\n",
       "#sk-container-id-3 input.sk-toggleable__control:checked~div.sk-toggleable__content {\n",
       "  /* Expand drop-down */\n",
       "  max-height: 200px;\n",
       "  max-width: 100%;\n",
       "  overflow: auto;\n",
       "}\n",
       "\n",
       "#sk-container-id-3 input.sk-toggleable__control:checked~label.sk-toggleable__label-arrow:before {\n",
       "  content: \"▾\";\n",
       "}\n",
       "\n",
       "/* Pipeline/ColumnTransformer-specific style */\n",
       "\n",
       "#sk-container-id-3 div.sk-label input.sk-toggleable__control:checked~label.sk-toggleable__label {\n",
       "  color: var(--sklearn-color-text);\n",
       "  background-color: var(--sklearn-color-unfitted-level-2);\n",
       "}\n",
       "\n",
       "#sk-container-id-3 div.sk-label.fitted input.sk-toggleable__control:checked~label.sk-toggleable__label {\n",
       "  background-color: var(--sklearn-color-fitted-level-2);\n",
       "}\n",
       "\n",
       "/* Estimator-specific style */\n",
       "\n",
       "/* Colorize estimator box */\n",
       "#sk-container-id-3 div.sk-estimator input.sk-toggleable__control:checked~label.sk-toggleable__label {\n",
       "  /* unfitted */\n",
       "  background-color: var(--sklearn-color-unfitted-level-2);\n",
       "}\n",
       "\n",
       "#sk-container-id-3 div.sk-estimator.fitted input.sk-toggleable__control:checked~label.sk-toggleable__label {\n",
       "  /* fitted */\n",
       "  background-color: var(--sklearn-color-fitted-level-2);\n",
       "}\n",
       "\n",
       "#sk-container-id-3 div.sk-label label.sk-toggleable__label,\n",
       "#sk-container-id-3 div.sk-label label {\n",
       "  /* The background is the default theme color */\n",
       "  color: var(--sklearn-color-text-on-default-background);\n",
       "}\n",
       "\n",
       "/* On hover, darken the color of the background */\n",
       "#sk-container-id-3 div.sk-label:hover label.sk-toggleable__label {\n",
       "  color: var(--sklearn-color-text);\n",
       "  background-color: var(--sklearn-color-unfitted-level-2);\n",
       "}\n",
       "\n",
       "/* Label box, darken color on hover, fitted */\n",
       "#sk-container-id-3 div.sk-label.fitted:hover label.sk-toggleable__label.fitted {\n",
       "  color: var(--sklearn-color-text);\n",
       "  background-color: var(--sklearn-color-fitted-level-2);\n",
       "}\n",
       "\n",
       "/* Estimator label */\n",
       "\n",
       "#sk-container-id-3 div.sk-label label {\n",
       "  font-family: monospace;\n",
       "  font-weight: bold;\n",
       "  display: inline-block;\n",
       "  line-height: 1.2em;\n",
       "}\n",
       "\n",
       "#sk-container-id-3 div.sk-label-container {\n",
       "  text-align: center;\n",
       "}\n",
       "\n",
       "/* Estimator-specific */\n",
       "#sk-container-id-3 div.sk-estimator {\n",
       "  font-family: monospace;\n",
       "  border: 1px dotted var(--sklearn-color-border-box);\n",
       "  border-radius: 0.25em;\n",
       "  box-sizing: border-box;\n",
       "  margin-bottom: 0.5em;\n",
       "  /* unfitted */\n",
       "  background-color: var(--sklearn-color-unfitted-level-0);\n",
       "}\n",
       "\n",
       "#sk-container-id-3 div.sk-estimator.fitted {\n",
       "  /* fitted */\n",
       "  background-color: var(--sklearn-color-fitted-level-0);\n",
       "}\n",
       "\n",
       "/* on hover */\n",
       "#sk-container-id-3 div.sk-estimator:hover {\n",
       "  /* unfitted */\n",
       "  background-color: var(--sklearn-color-unfitted-level-2);\n",
       "}\n",
       "\n",
       "#sk-container-id-3 div.sk-estimator.fitted:hover {\n",
       "  /* fitted */\n",
       "  background-color: var(--sklearn-color-fitted-level-2);\n",
       "}\n",
       "\n",
       "/* Specification for estimator info (e.g. \"i\" and \"?\") */\n",
       "\n",
       "/* Common style for \"i\" and \"?\" */\n",
       "\n",
       ".sk-estimator-doc-link,\n",
       "a:link.sk-estimator-doc-link,\n",
       "a:visited.sk-estimator-doc-link {\n",
       "  float: right;\n",
       "  font-size: smaller;\n",
       "  line-height: 1em;\n",
       "  font-family: monospace;\n",
       "  background-color: var(--sklearn-color-background);\n",
       "  border-radius: 1em;\n",
       "  height: 1em;\n",
       "  width: 1em;\n",
       "  text-decoration: none !important;\n",
       "  margin-left: 1ex;\n",
       "  /* unfitted */\n",
       "  border: var(--sklearn-color-unfitted-level-1) 1pt solid;\n",
       "  color: var(--sklearn-color-unfitted-level-1);\n",
       "}\n",
       "\n",
       ".sk-estimator-doc-link.fitted,\n",
       "a:link.sk-estimator-doc-link.fitted,\n",
       "a:visited.sk-estimator-doc-link.fitted {\n",
       "  /* fitted */\n",
       "  border: var(--sklearn-color-fitted-level-1) 1pt solid;\n",
       "  color: var(--sklearn-color-fitted-level-1);\n",
       "}\n",
       "\n",
       "/* On hover */\n",
       "div.sk-estimator:hover .sk-estimator-doc-link:hover,\n",
       ".sk-estimator-doc-link:hover,\n",
       "div.sk-label-container:hover .sk-estimator-doc-link:hover,\n",
       ".sk-estimator-doc-link:hover {\n",
       "  /* unfitted */\n",
       "  background-color: var(--sklearn-color-unfitted-level-3);\n",
       "  color: var(--sklearn-color-background);\n",
       "  text-decoration: none;\n",
       "}\n",
       "\n",
       "div.sk-estimator.fitted:hover .sk-estimator-doc-link.fitted:hover,\n",
       ".sk-estimator-doc-link.fitted:hover,\n",
       "div.sk-label-container:hover .sk-estimator-doc-link.fitted:hover,\n",
       ".sk-estimator-doc-link.fitted:hover {\n",
       "  /* fitted */\n",
       "  background-color: var(--sklearn-color-fitted-level-3);\n",
       "  color: var(--sklearn-color-background);\n",
       "  text-decoration: none;\n",
       "}\n",
       "\n",
       "/* Span, style for the box shown on hovering the info icon */\n",
       ".sk-estimator-doc-link span {\n",
       "  display: none;\n",
       "  z-index: 9999;\n",
       "  position: relative;\n",
       "  font-weight: normal;\n",
       "  right: .2ex;\n",
       "  padding: .5ex;\n",
       "  margin: .5ex;\n",
       "  width: min-content;\n",
       "  min-width: 20ex;\n",
       "  max-width: 50ex;\n",
       "  color: var(--sklearn-color-text);\n",
       "  box-shadow: 2pt 2pt 4pt #999;\n",
       "  /* unfitted */\n",
       "  background: var(--sklearn-color-unfitted-level-0);\n",
       "  border: .5pt solid var(--sklearn-color-unfitted-level-3);\n",
       "}\n",
       "\n",
       ".sk-estimator-doc-link.fitted span {\n",
       "  /* fitted */\n",
       "  background: var(--sklearn-color-fitted-level-0);\n",
       "  border: var(--sklearn-color-fitted-level-3);\n",
       "}\n",
       "\n",
       ".sk-estimator-doc-link:hover span {\n",
       "  display: block;\n",
       "}\n",
       "\n",
       "/* \"?\"-specific style due to the `<a>` HTML tag */\n",
       "\n",
       "#sk-container-id-3 a.estimator_doc_link {\n",
       "  float: right;\n",
       "  font-size: 1rem;\n",
       "  line-height: 1em;\n",
       "  font-family: monospace;\n",
       "  background-color: var(--sklearn-color-background);\n",
       "  border-radius: 1rem;\n",
       "  height: 1rem;\n",
       "  width: 1rem;\n",
       "  text-decoration: none;\n",
       "  /* unfitted */\n",
       "  color: var(--sklearn-color-unfitted-level-1);\n",
       "  border: var(--sklearn-color-unfitted-level-1) 1pt solid;\n",
       "}\n",
       "\n",
       "#sk-container-id-3 a.estimator_doc_link.fitted {\n",
       "  /* fitted */\n",
       "  border: var(--sklearn-color-fitted-level-1) 1pt solid;\n",
       "  color: var(--sklearn-color-fitted-level-1);\n",
       "}\n",
       "\n",
       "/* On hover */\n",
       "#sk-container-id-3 a.estimator_doc_link:hover {\n",
       "  /* unfitted */\n",
       "  background-color: var(--sklearn-color-unfitted-level-3);\n",
       "  color: var(--sklearn-color-background);\n",
       "  text-decoration: none;\n",
       "}\n",
       "\n",
       "#sk-container-id-3 a.estimator_doc_link.fitted:hover {\n",
       "  /* fitted */\n",
       "  background-color: var(--sklearn-color-fitted-level-3);\n",
       "}\n",
       "</style><div id=\"sk-container-id-3\" class=\"sk-top-container\"><div class=\"sk-text-repr-fallback\"><pre>LogisticRegression()</pre><b>In a Jupyter environment, please rerun this cell to show the HTML representation or trust the notebook. <br />On GitHub, the HTML representation is unable to render, please try loading this page with nbviewer.org.</b></div><div class=\"sk-container\" hidden><div class=\"sk-item\"><div class=\"sk-estimator fitted sk-toggleable\"><input class=\"sk-toggleable__control sk-hidden--visually\" id=\"sk-estimator-id-3\" type=\"checkbox\" checked><label for=\"sk-estimator-id-3\" class=\"sk-toggleable__label fitted sk-toggleable__label-arrow fitted\">&nbsp;&nbsp;LogisticRegression<a class=\"sk-estimator-doc-link fitted\" rel=\"noreferrer\" target=\"_blank\" href=\"https://scikit-learn.org/1.5/modules/generated/sklearn.linear_model.LogisticRegression.html\">?<span>Documentation for LogisticRegression</span></a><span class=\"sk-estimator-doc-link fitted\">i<span>Fitted</span></span></label><div class=\"sk-toggleable__content fitted\"><pre>LogisticRegression()</pre></div> </div></div></div></div>"
      ],
      "text/plain": [
       "LogisticRegression()"
      ]
     },
     "execution_count": 81,
     "metadata": {},
     "output_type": "execute_result"
    }
   ],
   "source": [
    "dv = DictVectorizer(sparse=False)\n",
    "\n",
    "train_dict = df_train[categorical + numerical].to_dict(orient='records')\n",
    "\n",
    "X_train = dv.fit_transform(train_dict)\n",
    "\n",
    "model = LogisticRegression()\n",
    "\n",
    "model.fit(X_train, y_train)"
   ]
  },
  {
   "cell_type": "markdown",
   "metadata": {
    "id": "W6xrLFOfCHCF"
   },
   "source": [
    "### Validation"
   ]
  },
  {
   "cell_type": "code",
   "execution_count": 82,
   "metadata": {
    "colab": {
     "base_uri": "https://localhost:8080/"
    },
    "id": "q2P3jWwgyiHC",
    "outputId": "d10fbfa2-21d3-4aac-b626-354276c23f48"
   },
   "outputs": [
    {
     "name": "stdout",
     "output_type": "stream",
     "text": [
      "Model 1 - ROC AUC Score: 0.5\n",
      "\n",
      "Confusion Matrix:\n",
      " [[47926     0]\n",
      " [12074     0]]\n",
      "\n",
      "Classification Report:\n",
      "               precision    recall  f1-score   support\n",
      "\n",
      "           0       0.80      1.00      0.89     47926\n",
      "           1       0.00      0.00      0.00     12074\n",
      "\n",
      "    accuracy                           0.80     60000\n",
      "   macro avg       0.40      0.50      0.44     60000\n",
      "weighted avg       0.64      0.80      0.71     60000\n",
      "\n"
     ]
    },
    {
     "name": "stderr",
     "output_type": "stream",
     "text": [
      "/Library/Frameworks/Python.framework/Versions/3.11/lib/python3.11/site-packages/sklearn/metrics/_classification.py:1531: UndefinedMetricWarning: Precision is ill-defined and being set to 0.0 in labels with no predicted samples. Use `zero_division` parameter to control this behavior.\n",
      "  _warn_prf(average, modifier, f\"{metric.capitalize()} is\", len(result))\n",
      "/Library/Frameworks/Python.framework/Versions/3.11/lib/python3.11/site-packages/sklearn/metrics/_classification.py:1531: UndefinedMetricWarning: Precision is ill-defined and being set to 0.0 in labels with no predicted samples. Use `zero_division` parameter to control this behavior.\n",
      "  _warn_prf(average, modifier, f\"{metric.capitalize()} is\", len(result))\n",
      "/Library/Frameworks/Python.framework/Versions/3.11/lib/python3.11/site-packages/sklearn/metrics/_classification.py:1531: UndefinedMetricWarning: Precision is ill-defined and being set to 0.0 in labels with no predicted samples. Use `zero_division` parameter to control this behavior.\n",
      "  _warn_prf(average, modifier, f\"{metric.capitalize()} is\", len(result))\n"
     ]
    }
   ],
   "source": [
    "val_dict = df_val[categorical + numerical].to_dict(orient='records')\n",
    "\n",
    "x_val = dv.fit_transform(val_dict)\n",
    "\n",
    "y_pred = model.predict(x_val)\n",
    "\n",
    "# Evaluate model performance with all features\n",
    "\n",
    "print(\"Model 1 - ROC AUC Score:\", roc_auc_score(y_val, y_pred))\n",
    "print()\n",
    "print(\"Confusion Matrix:\\n\", confusion_matrix(y_val, y_pred))\n",
    "print()\n",
    "print(\"Classification Report:\\n\", classification_report(y_val, y_pred))"
   ]
  },
  {
   "cell_type": "markdown",
   "metadata": {
    "id": "Qo5nb6xEEV5p"
   },
   "source": [
    "### Testing"
   ]
  },
  {
   "cell_type": "code",
   "execution_count": 83,
   "metadata": {
    "colab": {
     "base_uri": "https://localhost:8080/"
    },
    "id": "IL9JmTuKCF2h",
    "outputId": "862e69dd-5b4c-4785-ffa6-51888e37714e"
   },
   "outputs": [
    {
     "name": "stdout",
     "output_type": "stream",
     "text": [
      "Model1 Accuracy: 0.7970333333333334\n",
      "\n",
      "Model 1 - ROC AUC Score: 0.5\n",
      "\n",
      "Confusion Matrix:\n",
      " [[47822     0]\n",
      " [12178     0]]\n",
      "\n",
      "Classification Report:\n",
      "               precision    recall  f1-score   support\n",
      "\n",
      "           0       0.80      1.00      0.89     47822\n",
      "           1       0.00      0.00      0.00     12178\n",
      "\n",
      "    accuracy                           0.80     60000\n",
      "   macro avg       0.40      0.50      0.44     60000\n",
      "weighted avg       0.64      0.80      0.71     60000\n",
      "\n"
     ]
    },
    {
     "name": "stderr",
     "output_type": "stream",
     "text": [
      "/Library/Frameworks/Python.framework/Versions/3.11/lib/python3.11/site-packages/sklearn/metrics/_classification.py:1531: UndefinedMetricWarning: Precision is ill-defined and being set to 0.0 in labels with no predicted samples. Use `zero_division` parameter to control this behavior.\n",
      "  _warn_prf(average, modifier, f\"{metric.capitalize()} is\", len(result))\n",
      "/Library/Frameworks/Python.framework/Versions/3.11/lib/python3.11/site-packages/sklearn/metrics/_classification.py:1531: UndefinedMetricWarning: Precision is ill-defined and being set to 0.0 in labels with no predicted samples. Use `zero_division` parameter to control this behavior.\n",
      "  _warn_prf(average, modifier, f\"{metric.capitalize()} is\", len(result))\n",
      "/Library/Frameworks/Python.framework/Versions/3.11/lib/python3.11/site-packages/sklearn/metrics/_classification.py:1531: UndefinedMetricWarning: Precision is ill-defined and being set to 0.0 in labels with no predicted samples. Use `zero_division` parameter to control this behavior.\n",
      "  _warn_prf(average, modifier, f\"{metric.capitalize()} is\", len(result))\n"
     ]
    }
   ],
   "source": [
    "test_dict = df_test[categorical + numerical].to_dict(orient='records')\n",
    "\n",
    "x_test = dv.fit_transform(test_dict)\n",
    "\n",
    "y_pred = model.predict(x_test)\n",
    "\n",
    "# Evaluate model performance\n",
    "print(\"Model1 Accuracy:\", accuracy_score(y_test, y_pred))\n",
    "print()\n",
    "print(\"Model 1 - ROC AUC Score:\", roc_auc_score(y_test, y_pred))\n",
    "print()\n",
    "print(\"Confusion Matrix:\\n\", confusion_matrix(y_test, y_pred))\n",
    "print()\n",
    "print(\"Classification Report:\\n\", classification_report(y_test, y_pred))"
   ]
  },
  {
   "cell_type": "markdown",
   "metadata": {},
   "source": [
    "**Checking model performance by eliminating low dependent features**"
   ]
  },
  {
   "cell_type": "code",
   "execution_count": 84,
   "metadata": {
    "id": "4D1aQWvk199F"
   },
   "outputs": [],
   "source": [
    "# List of features to drop\n",
    "low_mi_features = ['year', 'month', 'merchant_category', 'card_type', 'merchant_type', 'day']"
   ]
  },
  {
   "cell_type": "code",
   "execution_count": 85,
   "metadata": {
    "id": "YdPmu_tS5q8x"
   },
   "outputs": [],
   "source": [
    "df_train1 = df_train.drop(columns=low_mi_features)\n",
    "df_val1 = df_val.drop(columns=low_mi_features)\n",
    "df_test1 = df_test.drop(columns=low_mi_features)"
   ]
  },
  {
   "cell_type": "code",
   "execution_count": 86,
   "metadata": {
    "colab": {
     "base_uri": "https://localhost:8080/",
     "height": 219
    },
    "id": "2ug0l0-L4HrK",
    "outputId": "b28f03e9-d220-4a22-fff4-e424d4f90671"
   },
   "outputs": [
    {
     "name": "stderr",
     "output_type": "stream",
     "text": [
      "/Library/Frameworks/Python.framework/Versions/3.11/lib/python3.11/site-packages/sklearn/linear_model/_logistic.py:469: ConvergenceWarning: lbfgs failed to converge (status=1):\n",
      "STOP: TOTAL NO. of ITERATIONS REACHED LIMIT.\n",
      "\n",
      "Increase the number of iterations (max_iter) or scale the data as shown in:\n",
      "    https://scikit-learn.org/stable/modules/preprocessing.html\n",
      "Please also refer to the documentation for alternative solver options:\n",
      "    https://scikit-learn.org/stable/modules/linear_model.html#logistic-regression\n",
      "  n_iter_i = _check_optimize_result(\n"
     ]
    },
    {
     "data": {
      "text/html": [
       "<style>#sk-container-id-4 {\n",
       "  /* Definition of color scheme common for light and dark mode */\n",
       "  --sklearn-color-text: black;\n",
       "  --sklearn-color-line: gray;\n",
       "  /* Definition of color scheme for unfitted estimators */\n",
       "  --sklearn-color-unfitted-level-0: #fff5e6;\n",
       "  --sklearn-color-unfitted-level-1: #f6e4d2;\n",
       "  --sklearn-color-unfitted-level-2: #ffe0b3;\n",
       "  --sklearn-color-unfitted-level-3: chocolate;\n",
       "  /* Definition of color scheme for fitted estimators */\n",
       "  --sklearn-color-fitted-level-0: #f0f8ff;\n",
       "  --sklearn-color-fitted-level-1: #d4ebff;\n",
       "  --sklearn-color-fitted-level-2: #b3dbfd;\n",
       "  --sklearn-color-fitted-level-3: cornflowerblue;\n",
       "\n",
       "  /* Specific color for light theme */\n",
       "  --sklearn-color-text-on-default-background: var(--sg-text-color, var(--theme-code-foreground, var(--jp-content-font-color1, black)));\n",
       "  --sklearn-color-background: var(--sg-background-color, var(--theme-background, var(--jp-layout-color0, white)));\n",
       "  --sklearn-color-border-box: var(--sg-text-color, var(--theme-code-foreground, var(--jp-content-font-color1, black)));\n",
       "  --sklearn-color-icon: #696969;\n",
       "\n",
       "  @media (prefers-color-scheme: dark) {\n",
       "    /* Redefinition of color scheme for dark theme */\n",
       "    --sklearn-color-text-on-default-background: var(--sg-text-color, var(--theme-code-foreground, var(--jp-content-font-color1, white)));\n",
       "    --sklearn-color-background: var(--sg-background-color, var(--theme-background, var(--jp-layout-color0, #111)));\n",
       "    --sklearn-color-border-box: var(--sg-text-color, var(--theme-code-foreground, var(--jp-content-font-color1, white)));\n",
       "    --sklearn-color-icon: #878787;\n",
       "  }\n",
       "}\n",
       "\n",
       "#sk-container-id-4 {\n",
       "  color: var(--sklearn-color-text);\n",
       "}\n",
       "\n",
       "#sk-container-id-4 pre {\n",
       "  padding: 0;\n",
       "}\n",
       "\n",
       "#sk-container-id-4 input.sk-hidden--visually {\n",
       "  border: 0;\n",
       "  clip: rect(1px 1px 1px 1px);\n",
       "  clip: rect(1px, 1px, 1px, 1px);\n",
       "  height: 1px;\n",
       "  margin: -1px;\n",
       "  overflow: hidden;\n",
       "  padding: 0;\n",
       "  position: absolute;\n",
       "  width: 1px;\n",
       "}\n",
       "\n",
       "#sk-container-id-4 div.sk-dashed-wrapped {\n",
       "  border: 1px dashed var(--sklearn-color-line);\n",
       "  margin: 0 0.4em 0.5em 0.4em;\n",
       "  box-sizing: border-box;\n",
       "  padding-bottom: 0.4em;\n",
       "  background-color: var(--sklearn-color-background);\n",
       "}\n",
       "\n",
       "#sk-container-id-4 div.sk-container {\n",
       "  /* jupyter's `normalize.less` sets `[hidden] { display: none; }`\n",
       "     but bootstrap.min.css set `[hidden] { display: none !important; }`\n",
       "     so we also need the `!important` here to be able to override the\n",
       "     default hidden behavior on the sphinx rendered scikit-learn.org.\n",
       "     See: https://github.com/scikit-learn/scikit-learn/issues/21755 */\n",
       "  display: inline-block !important;\n",
       "  position: relative;\n",
       "}\n",
       "\n",
       "#sk-container-id-4 div.sk-text-repr-fallback {\n",
       "  display: none;\n",
       "}\n",
       "\n",
       "div.sk-parallel-item,\n",
       "div.sk-serial,\n",
       "div.sk-item {\n",
       "  /* draw centered vertical line to link estimators */\n",
       "  background-image: linear-gradient(var(--sklearn-color-text-on-default-background), var(--sklearn-color-text-on-default-background));\n",
       "  background-size: 2px 100%;\n",
       "  background-repeat: no-repeat;\n",
       "  background-position: center center;\n",
       "}\n",
       "\n",
       "/* Parallel-specific style estimator block */\n",
       "\n",
       "#sk-container-id-4 div.sk-parallel-item::after {\n",
       "  content: \"\";\n",
       "  width: 100%;\n",
       "  border-bottom: 2px solid var(--sklearn-color-text-on-default-background);\n",
       "  flex-grow: 1;\n",
       "}\n",
       "\n",
       "#sk-container-id-4 div.sk-parallel {\n",
       "  display: flex;\n",
       "  align-items: stretch;\n",
       "  justify-content: center;\n",
       "  background-color: var(--sklearn-color-background);\n",
       "  position: relative;\n",
       "}\n",
       "\n",
       "#sk-container-id-4 div.sk-parallel-item {\n",
       "  display: flex;\n",
       "  flex-direction: column;\n",
       "}\n",
       "\n",
       "#sk-container-id-4 div.sk-parallel-item:first-child::after {\n",
       "  align-self: flex-end;\n",
       "  width: 50%;\n",
       "}\n",
       "\n",
       "#sk-container-id-4 div.sk-parallel-item:last-child::after {\n",
       "  align-self: flex-start;\n",
       "  width: 50%;\n",
       "}\n",
       "\n",
       "#sk-container-id-4 div.sk-parallel-item:only-child::after {\n",
       "  width: 0;\n",
       "}\n",
       "\n",
       "/* Serial-specific style estimator block */\n",
       "\n",
       "#sk-container-id-4 div.sk-serial {\n",
       "  display: flex;\n",
       "  flex-direction: column;\n",
       "  align-items: center;\n",
       "  background-color: var(--sklearn-color-background);\n",
       "  padding-right: 1em;\n",
       "  padding-left: 1em;\n",
       "}\n",
       "\n",
       "\n",
       "/* Toggleable style: style used for estimator/Pipeline/ColumnTransformer box that is\n",
       "clickable and can be expanded/collapsed.\n",
       "- Pipeline and ColumnTransformer use this feature and define the default style\n",
       "- Estimators will overwrite some part of the style using the `sk-estimator` class\n",
       "*/\n",
       "\n",
       "/* Pipeline and ColumnTransformer style (default) */\n",
       "\n",
       "#sk-container-id-4 div.sk-toggleable {\n",
       "  /* Default theme specific background. It is overwritten whether we have a\n",
       "  specific estimator or a Pipeline/ColumnTransformer */\n",
       "  background-color: var(--sklearn-color-background);\n",
       "}\n",
       "\n",
       "/* Toggleable label */\n",
       "#sk-container-id-4 label.sk-toggleable__label {\n",
       "  cursor: pointer;\n",
       "  display: block;\n",
       "  width: 100%;\n",
       "  margin-bottom: 0;\n",
       "  padding: 0.5em;\n",
       "  box-sizing: border-box;\n",
       "  text-align: center;\n",
       "}\n",
       "\n",
       "#sk-container-id-4 label.sk-toggleable__label-arrow:before {\n",
       "  /* Arrow on the left of the label */\n",
       "  content: \"▸\";\n",
       "  float: left;\n",
       "  margin-right: 0.25em;\n",
       "  color: var(--sklearn-color-icon);\n",
       "}\n",
       "\n",
       "#sk-container-id-4 label.sk-toggleable__label-arrow:hover:before {\n",
       "  color: var(--sklearn-color-text);\n",
       "}\n",
       "\n",
       "/* Toggleable content - dropdown */\n",
       "\n",
       "#sk-container-id-4 div.sk-toggleable__content {\n",
       "  max-height: 0;\n",
       "  max-width: 0;\n",
       "  overflow: hidden;\n",
       "  text-align: left;\n",
       "  /* unfitted */\n",
       "  background-color: var(--sklearn-color-unfitted-level-0);\n",
       "}\n",
       "\n",
       "#sk-container-id-4 div.sk-toggleable__content.fitted {\n",
       "  /* fitted */\n",
       "  background-color: var(--sklearn-color-fitted-level-0);\n",
       "}\n",
       "\n",
       "#sk-container-id-4 div.sk-toggleable__content pre {\n",
       "  margin: 0.2em;\n",
       "  border-radius: 0.25em;\n",
       "  color: var(--sklearn-color-text);\n",
       "  /* unfitted */\n",
       "  background-color: var(--sklearn-color-unfitted-level-0);\n",
       "}\n",
       "\n",
       "#sk-container-id-4 div.sk-toggleable__content.fitted pre {\n",
       "  /* unfitted */\n",
       "  background-color: var(--sklearn-color-fitted-level-0);\n",
       "}\n",
       "\n",
       "#sk-container-id-4 input.sk-toggleable__control:checked~div.sk-toggleable__content {\n",
       "  /* Expand drop-down */\n",
       "  max-height: 200px;\n",
       "  max-width: 100%;\n",
       "  overflow: auto;\n",
       "}\n",
       "\n",
       "#sk-container-id-4 input.sk-toggleable__control:checked~label.sk-toggleable__label-arrow:before {\n",
       "  content: \"▾\";\n",
       "}\n",
       "\n",
       "/* Pipeline/ColumnTransformer-specific style */\n",
       "\n",
       "#sk-container-id-4 div.sk-label input.sk-toggleable__control:checked~label.sk-toggleable__label {\n",
       "  color: var(--sklearn-color-text);\n",
       "  background-color: var(--sklearn-color-unfitted-level-2);\n",
       "}\n",
       "\n",
       "#sk-container-id-4 div.sk-label.fitted input.sk-toggleable__control:checked~label.sk-toggleable__label {\n",
       "  background-color: var(--sklearn-color-fitted-level-2);\n",
       "}\n",
       "\n",
       "/* Estimator-specific style */\n",
       "\n",
       "/* Colorize estimator box */\n",
       "#sk-container-id-4 div.sk-estimator input.sk-toggleable__control:checked~label.sk-toggleable__label {\n",
       "  /* unfitted */\n",
       "  background-color: var(--sklearn-color-unfitted-level-2);\n",
       "}\n",
       "\n",
       "#sk-container-id-4 div.sk-estimator.fitted input.sk-toggleable__control:checked~label.sk-toggleable__label {\n",
       "  /* fitted */\n",
       "  background-color: var(--sklearn-color-fitted-level-2);\n",
       "}\n",
       "\n",
       "#sk-container-id-4 div.sk-label label.sk-toggleable__label,\n",
       "#sk-container-id-4 div.sk-label label {\n",
       "  /* The background is the default theme color */\n",
       "  color: var(--sklearn-color-text-on-default-background);\n",
       "}\n",
       "\n",
       "/* On hover, darken the color of the background */\n",
       "#sk-container-id-4 div.sk-label:hover label.sk-toggleable__label {\n",
       "  color: var(--sklearn-color-text);\n",
       "  background-color: var(--sklearn-color-unfitted-level-2);\n",
       "}\n",
       "\n",
       "/* Label box, darken color on hover, fitted */\n",
       "#sk-container-id-4 div.sk-label.fitted:hover label.sk-toggleable__label.fitted {\n",
       "  color: var(--sklearn-color-text);\n",
       "  background-color: var(--sklearn-color-fitted-level-2);\n",
       "}\n",
       "\n",
       "/* Estimator label */\n",
       "\n",
       "#sk-container-id-4 div.sk-label label {\n",
       "  font-family: monospace;\n",
       "  font-weight: bold;\n",
       "  display: inline-block;\n",
       "  line-height: 1.2em;\n",
       "}\n",
       "\n",
       "#sk-container-id-4 div.sk-label-container {\n",
       "  text-align: center;\n",
       "}\n",
       "\n",
       "/* Estimator-specific */\n",
       "#sk-container-id-4 div.sk-estimator {\n",
       "  font-family: monospace;\n",
       "  border: 1px dotted var(--sklearn-color-border-box);\n",
       "  border-radius: 0.25em;\n",
       "  box-sizing: border-box;\n",
       "  margin-bottom: 0.5em;\n",
       "  /* unfitted */\n",
       "  background-color: var(--sklearn-color-unfitted-level-0);\n",
       "}\n",
       "\n",
       "#sk-container-id-4 div.sk-estimator.fitted {\n",
       "  /* fitted */\n",
       "  background-color: var(--sklearn-color-fitted-level-0);\n",
       "}\n",
       "\n",
       "/* on hover */\n",
       "#sk-container-id-4 div.sk-estimator:hover {\n",
       "  /* unfitted */\n",
       "  background-color: var(--sklearn-color-unfitted-level-2);\n",
       "}\n",
       "\n",
       "#sk-container-id-4 div.sk-estimator.fitted:hover {\n",
       "  /* fitted */\n",
       "  background-color: var(--sklearn-color-fitted-level-2);\n",
       "}\n",
       "\n",
       "/* Specification for estimator info (e.g. \"i\" and \"?\") */\n",
       "\n",
       "/* Common style for \"i\" and \"?\" */\n",
       "\n",
       ".sk-estimator-doc-link,\n",
       "a:link.sk-estimator-doc-link,\n",
       "a:visited.sk-estimator-doc-link {\n",
       "  float: right;\n",
       "  font-size: smaller;\n",
       "  line-height: 1em;\n",
       "  font-family: monospace;\n",
       "  background-color: var(--sklearn-color-background);\n",
       "  border-radius: 1em;\n",
       "  height: 1em;\n",
       "  width: 1em;\n",
       "  text-decoration: none !important;\n",
       "  margin-left: 1ex;\n",
       "  /* unfitted */\n",
       "  border: var(--sklearn-color-unfitted-level-1) 1pt solid;\n",
       "  color: var(--sklearn-color-unfitted-level-1);\n",
       "}\n",
       "\n",
       ".sk-estimator-doc-link.fitted,\n",
       "a:link.sk-estimator-doc-link.fitted,\n",
       "a:visited.sk-estimator-doc-link.fitted {\n",
       "  /* fitted */\n",
       "  border: var(--sklearn-color-fitted-level-1) 1pt solid;\n",
       "  color: var(--sklearn-color-fitted-level-1);\n",
       "}\n",
       "\n",
       "/* On hover */\n",
       "div.sk-estimator:hover .sk-estimator-doc-link:hover,\n",
       ".sk-estimator-doc-link:hover,\n",
       "div.sk-label-container:hover .sk-estimator-doc-link:hover,\n",
       ".sk-estimator-doc-link:hover {\n",
       "  /* unfitted */\n",
       "  background-color: var(--sklearn-color-unfitted-level-3);\n",
       "  color: var(--sklearn-color-background);\n",
       "  text-decoration: none;\n",
       "}\n",
       "\n",
       "div.sk-estimator.fitted:hover .sk-estimator-doc-link.fitted:hover,\n",
       ".sk-estimator-doc-link.fitted:hover,\n",
       "div.sk-label-container:hover .sk-estimator-doc-link.fitted:hover,\n",
       ".sk-estimator-doc-link.fitted:hover {\n",
       "  /* fitted */\n",
       "  background-color: var(--sklearn-color-fitted-level-3);\n",
       "  color: var(--sklearn-color-background);\n",
       "  text-decoration: none;\n",
       "}\n",
       "\n",
       "/* Span, style for the box shown on hovering the info icon */\n",
       ".sk-estimator-doc-link span {\n",
       "  display: none;\n",
       "  z-index: 9999;\n",
       "  position: relative;\n",
       "  font-weight: normal;\n",
       "  right: .2ex;\n",
       "  padding: .5ex;\n",
       "  margin: .5ex;\n",
       "  width: min-content;\n",
       "  min-width: 20ex;\n",
       "  max-width: 50ex;\n",
       "  color: var(--sklearn-color-text);\n",
       "  box-shadow: 2pt 2pt 4pt #999;\n",
       "  /* unfitted */\n",
       "  background: var(--sklearn-color-unfitted-level-0);\n",
       "  border: .5pt solid var(--sklearn-color-unfitted-level-3);\n",
       "}\n",
       "\n",
       ".sk-estimator-doc-link.fitted span {\n",
       "  /* fitted */\n",
       "  background: var(--sklearn-color-fitted-level-0);\n",
       "  border: var(--sklearn-color-fitted-level-3);\n",
       "}\n",
       "\n",
       ".sk-estimator-doc-link:hover span {\n",
       "  display: block;\n",
       "}\n",
       "\n",
       "/* \"?\"-specific style due to the `<a>` HTML tag */\n",
       "\n",
       "#sk-container-id-4 a.estimator_doc_link {\n",
       "  float: right;\n",
       "  font-size: 1rem;\n",
       "  line-height: 1em;\n",
       "  font-family: monospace;\n",
       "  background-color: var(--sklearn-color-background);\n",
       "  border-radius: 1rem;\n",
       "  height: 1rem;\n",
       "  width: 1rem;\n",
       "  text-decoration: none;\n",
       "  /* unfitted */\n",
       "  color: var(--sklearn-color-unfitted-level-1);\n",
       "  border: var(--sklearn-color-unfitted-level-1) 1pt solid;\n",
       "}\n",
       "\n",
       "#sk-container-id-4 a.estimator_doc_link.fitted {\n",
       "  /* fitted */\n",
       "  border: var(--sklearn-color-fitted-level-1) 1pt solid;\n",
       "  color: var(--sklearn-color-fitted-level-1);\n",
       "}\n",
       "\n",
       "/* On hover */\n",
       "#sk-container-id-4 a.estimator_doc_link:hover {\n",
       "  /* unfitted */\n",
       "  background-color: var(--sklearn-color-unfitted-level-3);\n",
       "  color: var(--sklearn-color-background);\n",
       "  text-decoration: none;\n",
       "}\n",
       "\n",
       "#sk-container-id-4 a.estimator_doc_link.fitted:hover {\n",
       "  /* fitted */\n",
       "  background-color: var(--sklearn-color-fitted-level-3);\n",
       "}\n",
       "</style><div id=\"sk-container-id-4\" class=\"sk-top-container\"><div class=\"sk-text-repr-fallback\"><pre>LogisticRegression()</pre><b>In a Jupyter environment, please rerun this cell to show the HTML representation or trust the notebook. <br />On GitHub, the HTML representation is unable to render, please try loading this page with nbviewer.org.</b></div><div class=\"sk-container\" hidden><div class=\"sk-item\"><div class=\"sk-estimator fitted sk-toggleable\"><input class=\"sk-toggleable__control sk-hidden--visually\" id=\"sk-estimator-id-4\" type=\"checkbox\" checked><label for=\"sk-estimator-id-4\" class=\"sk-toggleable__label fitted sk-toggleable__label-arrow fitted\">&nbsp;&nbsp;LogisticRegression<a class=\"sk-estimator-doc-link fitted\" rel=\"noreferrer\" target=\"_blank\" href=\"https://scikit-learn.org/1.5/modules/generated/sklearn.linear_model.LogisticRegression.html\">?<span>Documentation for LogisticRegression</span></a><span class=\"sk-estimator-doc-link fitted\">i<span>Fitted</span></span></label><div class=\"sk-toggleable__content fitted\"><pre>LogisticRegression()</pre></div> </div></div></div></div>"
      ],
      "text/plain": [
       "LogisticRegression()"
      ]
     },
     "execution_count": 86,
     "metadata": {},
     "output_type": "execute_result"
    }
   ],
   "source": [
    "dv = DictVectorizer(sparse=False)\n",
    "\n",
    "train_dict = df_train1.to_dict(orient='records')\n",
    "\n",
    "X_train = dv.fit_transform(train_dict)\n",
    "\n",
    "model = LogisticRegression()\n",
    "\n",
    "model.fit(X_train, y_train)"
   ]
  },
  {
   "cell_type": "code",
   "execution_count": 87,
   "metadata": {
    "colab": {
     "base_uri": "https://localhost:8080/"
    },
    "id": "P1ybBTVc9Dnc",
    "outputId": "1d034de7-c057-4555-a0f0-7ea32aa90b2e"
   },
   "outputs": [
    {
     "name": "stdout",
     "output_type": "stream",
     "text": [
      "Model 2 Accuracy: 0.7987666666666666\n",
      "\n",
      "Model 2 - ROC AUC Score: 0.5\n",
      "\n",
      "Confusion Matrix:\n",
      " [[47926     0]\n",
      " [12074     0]]\n",
      "\n",
      "Classification Report:\n",
      "               precision    recall  f1-score   support\n",
      "\n",
      "           0       0.80      1.00      0.89     47926\n",
      "           1       0.00      0.00      0.00     12074\n",
      "\n",
      "    accuracy                           0.80     60000\n",
      "   macro avg       0.40      0.50      0.44     60000\n",
      "weighted avg       0.64      0.80      0.71     60000\n",
      "\n"
     ]
    },
    {
     "name": "stderr",
     "output_type": "stream",
     "text": [
      "/Library/Frameworks/Python.framework/Versions/3.11/lib/python3.11/site-packages/sklearn/metrics/_classification.py:1531: UndefinedMetricWarning: Precision is ill-defined and being set to 0.0 in labels with no predicted samples. Use `zero_division` parameter to control this behavior.\n",
      "  _warn_prf(average, modifier, f\"{metric.capitalize()} is\", len(result))\n",
      "/Library/Frameworks/Python.framework/Versions/3.11/lib/python3.11/site-packages/sklearn/metrics/_classification.py:1531: UndefinedMetricWarning: Precision is ill-defined and being set to 0.0 in labels with no predicted samples. Use `zero_division` parameter to control this behavior.\n",
      "  _warn_prf(average, modifier, f\"{metric.capitalize()} is\", len(result))\n",
      "/Library/Frameworks/Python.framework/Versions/3.11/lib/python3.11/site-packages/sklearn/metrics/_classification.py:1531: UndefinedMetricWarning: Precision is ill-defined and being set to 0.0 in labels with no predicted samples. Use `zero_division` parameter to control this behavior.\n",
      "  _warn_prf(average, modifier, f\"{metric.capitalize()} is\", len(result))\n"
     ]
    }
   ],
   "source": [
    "val_dict = df_val1.to_dict(orient='records')\n",
    "\n",
    "x_val = dv.fit_transform(val_dict)\n",
    "\n",
    "y_pred = model.predict(x_val)\n",
    "\n",
    "# Evaluate model performance\n",
    "print(\"Model 2 Accuracy:\", accuracy_score(y_val, y_pred))\n",
    "print()\n",
    "print(\"Model 2 - ROC AUC Score:\", roc_auc_score(y_val, y_pred))\n",
    "print()\n",
    "print(\"Confusion Matrix:\\n\", confusion_matrix(y_val, y_pred))\n",
    "print()\n",
    "print(\"Classification Report:\\n\", classification_report(y_val, y_pred))"
   ]
  },
  {
   "cell_type": "code",
   "execution_count": 88,
   "metadata": {
    "colab": {
     "base_uri": "https://localhost:8080/"
    },
    "id": "Aq-JIQVRFu8J",
    "outputId": "8404cead-05c1-4cae-b13e-db40b512c7e2"
   },
   "outputs": [
    {
     "name": "stdout",
     "output_type": "stream",
     "text": [
      "Model2 Accuracy: 0.7970333333333334\n",
      "\n",
      "Model 2 - ROC AUC Score: 0.5\n",
      "\n",
      "Confusion Matrix:\n",
      " [[47822     0]\n",
      " [12178     0]]\n",
      "\n",
      "Classification Report:\n",
      "               precision    recall  f1-score   support\n",
      "\n",
      "           0       0.80      1.00      0.89     47822\n",
      "           1       0.00      0.00      0.00     12178\n",
      "\n",
      "    accuracy                           0.80     60000\n",
      "   macro avg       0.40      0.50      0.44     60000\n",
      "weighted avg       0.64      0.80      0.71     60000\n",
      "\n"
     ]
    },
    {
     "name": "stderr",
     "output_type": "stream",
     "text": [
      "/Library/Frameworks/Python.framework/Versions/3.11/lib/python3.11/site-packages/sklearn/metrics/_classification.py:1531: UndefinedMetricWarning: Precision is ill-defined and being set to 0.0 in labels with no predicted samples. Use `zero_division` parameter to control this behavior.\n",
      "  _warn_prf(average, modifier, f\"{metric.capitalize()} is\", len(result))\n",
      "/Library/Frameworks/Python.framework/Versions/3.11/lib/python3.11/site-packages/sklearn/metrics/_classification.py:1531: UndefinedMetricWarning: Precision is ill-defined and being set to 0.0 in labels with no predicted samples. Use `zero_division` parameter to control this behavior.\n",
      "  _warn_prf(average, modifier, f\"{metric.capitalize()} is\", len(result))\n",
      "/Library/Frameworks/Python.framework/Versions/3.11/lib/python3.11/site-packages/sklearn/metrics/_classification.py:1531: UndefinedMetricWarning: Precision is ill-defined and being set to 0.0 in labels with no predicted samples. Use `zero_division` parameter to control this behavior.\n",
      "  _warn_prf(average, modifier, f\"{metric.capitalize()} is\", len(result))\n"
     ]
    }
   ],
   "source": [
    "test_dict = df_test1.to_dict(orient='records')\n",
    "\n",
    "x_test = dv.fit_transform(test_dict)\n",
    "\n",
    "y_pred = model.predict(x_test)\n",
    "\n",
    "# Evaluate model performance\n",
    "print(\"Model2 Accuracy:\", accuracy_score(y_test, y_pred))\n",
    "print()\n",
    "print(\"Model 2 - ROC AUC Score:\", roc_auc_score(y_test, y_pred))\n",
    "print()\n",
    "print(\"Confusion Matrix:\\n\", confusion_matrix(y_test, y_pred))\n",
    "print()\n",
    "print(\"Classification Report:\\n\", classification_report(y_test, y_pred))"
   ]
  },
  {
   "cell_type": "markdown",
   "metadata": {
    "id": "lpJoYCXBBaNp"
   },
   "source": [
    "**There is no much difference in performance, need to check with other models**"
   ]
  },
  {
   "cell_type": "markdown",
   "metadata": {},
   "source": [
    "**Correlation**"
   ]
  },
  {
   "cell_type": "code",
   "execution_count": 89,
   "metadata": {
    "colab": {
     "base_uri": "https://localhost:8080/",
     "height": 397
    },
    "id": "Db5-pAZpQMCK",
    "outputId": "b26594c3-9d7d-4a8b-e2f1-f75b6219080c"
   },
   "outputs": [
    {
     "data": {
      "text/plain": [
       "distance_from_home                0.635066\n",
       "transaction_hour                  0.278116\n",
       "amount                            0.043590\n",
       "max_single_amount_in_last_hour    0.007468\n",
       "unique_countries_in_last_hour     0.006812\n",
       "unique_merchants_in_last_hour     0.004424\n",
       "weekend_transaction               0.002535\n",
       "num_transactions_in_last_hour     0.001468\n",
       "high_risk_merchant                0.001398\n",
       "total_amount_in_last_hour         0.000200\n",
       "dtype: float64"
      ]
     },
     "execution_count": 89,
     "metadata": {},
     "output_type": "execute_result"
    }
   ],
   "source": [
    "df_full_train[numerical].corrwith(df_full_train.is_fraud).abs().sort_values(ascending=False)"
   ]
  },
  {
   "cell_type": "markdown",
   "metadata": {},
   "source": [
    "### Decision Tree"
   ]
  },
  {
   "cell_type": "code",
   "execution_count": 90,
   "metadata": {
    "id": "9BwHROE6M6q-"
   },
   "outputs": [],
   "source": [
    "from sklearn.tree import DecisionTreeClassifier\n",
    "from sklearn.ensemble import RandomForestClassifier\n",
    "from sklearn.metrics import classification_report, confusion_matrix, accuracy_score\n",
    "from sklearn.metrics import roc_auc_score"
   ]
  },
  {
   "cell_type": "code",
   "execution_count": 92,
   "metadata": {
    "colab": {
     "base_uri": "https://localhost:8080/"
    },
    "id": "q-UaSNM9NBN9",
    "outputId": "341a350b-e40f-4a26-88bd-d7c8abb79594"
   },
   "outputs": [
    {
     "name": "stdout",
     "output_type": "stream",
     "text": [
      "Decision Tree Results\n",
      "Accuracy: 0.9345333333333333\n",
      "Decision Tree - ROC AUC Score: 0.8496349083419014\n",
      "Confusion Matrix:\n",
      " [[47529   397]\n",
      " [ 3531  8543]]\n",
      "Classification Report:\n",
      "               precision    recall  f1-score   support\n",
      "\n",
      "           0       0.93      0.99      0.96     47926\n",
      "           1       0.96      0.71      0.81     12074\n",
      "\n",
      "    accuracy                           0.93     60000\n",
      "   macro avg       0.94      0.85      0.89     60000\n",
      "weighted avg       0.94      0.93      0.93     60000\n",
      "\n"
     ]
    }
   ],
   "source": [
    "train_dict = df_train[categorical + numerical].to_dict(orient='records')\n",
    "X_train = dv.fit_transform(train_dict)\n",
    "\n",
    "# Train Decision Tree\n",
    "dt_model = DecisionTreeClassifier(max_depth=5, random_state=42)  # Adjust max_depth for regularization\n",
    "\n",
    "\n",
    "dt_model.fit(X_train, y_train)\n",
    "\n",
    "\n",
    "val_dict = df_val[categorical + numerical].to_dict(orient='records')\n",
    "\n",
    "x_val = dv.fit_transform(val_dict)\n",
    "# Predictions\n",
    "dt_preds = dt_model.predict(x_val)\n",
    "\n",
    "# Evaluation for Decision Tree\n",
    "print(\"Decision Tree Results\")\n",
    "print(\"Accuracy:\", accuracy_score(y_val, dt_preds))\n",
    "print(\"Decision Tree - ROC AUC Score:\", roc_auc_score(y_val, dt_preds))\n",
    "print(\"Confusion Matrix:\\n\", confusion_matrix(y_val, dt_preds))\n",
    "print(\"Classification Report:\\n\", classification_report(y_val, dt_preds))"
   ]
  },
  {
   "cell_type": "markdown",
   "metadata": {},
   "source": [
    "**Decision Tree parameter tuning**"
   ]
  },
  {
   "cell_type": "code",
   "execution_count": 95,
   "metadata": {
    "colab": {
     "base_uri": "https://localhost:8080/",
     "height": 356
    },
    "id": "XEhhMwTZkZor",
    "outputId": "55606a6c-c18d-43c6-98d5-fdb08000bd5c"
   },
   "outputs": [],
   "source": [
    "scores = []\n",
    "\n",
    "for i in range(5, 60, 5):\n",
    "    dt_model = DecisionTreeClassifier(max_depth=i, random_state=42)  # Adjust max_depth for regularization\n",
    "    dt_model.fit(X_train, y_train)\n",
    "    val_dict = df_val[categorical + numerical].to_dict(orient='records')\n",
    "    x_val = dv.fit_transform(val_dict)\n",
    "    dt_preds = dt_model.predict(x_val)\n",
    "    scores.append((i, roc_auc_score(y_val, dt_preds)))\n",
    "\n",
    "\n",
    "df_scores = pd.DataFrame(scores, columns=['max_depth', 'auc'])"
   ]
  },
  {
   "cell_type": "code",
   "execution_count": 96,
   "metadata": {
    "colab": {
     "base_uri": "https://localhost:8080/",
     "height": 645
    },
    "id": "jr4NF_BJ54t2",
    "outputId": "6c5c25d7-0f83-45f2-b246-141f185c2ad9"
   },
   "outputs": [
    {
     "data": {
      "text/html": [
       "<div>\n",
       "<style scoped>\n",
       "    .dataframe tbody tr th:only-of-type {\n",
       "        vertical-align: middle;\n",
       "    }\n",
       "\n",
       "    .dataframe tbody tr th {\n",
       "        vertical-align: top;\n",
       "    }\n",
       "\n",
       "    .dataframe thead th {\n",
       "        text-align: right;\n",
       "    }\n",
       "</style>\n",
       "<table border=\"1\" class=\"dataframe\">\n",
       "  <thead>\n",
       "    <tr style=\"text-align: right;\">\n",
       "      <th></th>\n",
       "      <th>max_depth</th>\n",
       "      <th>auc</th>\n",
       "    </tr>\n",
       "  </thead>\n",
       "  <tbody>\n",
       "    <tr>\n",
       "      <th>0</th>\n",
       "      <td>5</td>\n",
       "      <td>0.849635</td>\n",
       "    </tr>\n",
       "    <tr>\n",
       "      <th>1</th>\n",
       "      <td>10</td>\n",
       "      <td>0.927784</td>\n",
       "    </tr>\n",
       "    <tr>\n",
       "      <th>2</th>\n",
       "      <td>15</td>\n",
       "      <td>0.944713</td>\n",
       "    </tr>\n",
       "    <tr>\n",
       "      <th>3</th>\n",
       "      <td>20</td>\n",
       "      <td>0.952389</td>\n",
       "    </tr>\n",
       "    <tr>\n",
       "      <th>4</th>\n",
       "      <td>25</td>\n",
       "      <td>0.952245</td>\n",
       "    </tr>\n",
       "    <tr>\n",
       "      <th>5</th>\n",
       "      <td>30</td>\n",
       "      <td>0.951711</td>\n",
       "    </tr>\n",
       "    <tr>\n",
       "      <th>6</th>\n",
       "      <td>35</td>\n",
       "      <td>0.952468</td>\n",
       "    </tr>\n",
       "    <tr>\n",
       "      <th>7</th>\n",
       "      <td>40</td>\n",
       "      <td>0.950552</td>\n",
       "    </tr>\n",
       "    <tr>\n",
       "      <th>8</th>\n",
       "      <td>45</td>\n",
       "      <td>0.951610</td>\n",
       "    </tr>\n",
       "    <tr>\n",
       "      <th>9</th>\n",
       "      <td>50</td>\n",
       "      <td>0.951610</td>\n",
       "    </tr>\n",
       "    <tr>\n",
       "      <th>10</th>\n",
       "      <td>55</td>\n",
       "      <td>0.951610</td>\n",
       "    </tr>\n",
       "  </tbody>\n",
       "</table>\n",
       "</div>"
      ],
      "text/plain": [
       "    max_depth       auc\n",
       "0           5  0.849635\n",
       "1          10  0.927784\n",
       "2          15  0.944713\n",
       "3          20  0.952389\n",
       "4          25  0.952245\n",
       "5          30  0.951711\n",
       "6          35  0.952468\n",
       "7          40  0.950552\n",
       "8          45  0.951610\n",
       "9          50  0.951610\n",
       "10         55  0.951610"
      ]
     },
     "execution_count": 96,
     "metadata": {},
     "output_type": "execute_result"
    }
   ],
   "source": [
    "df_scores"
   ]
  },
  {
   "cell_type": "code",
   "execution_count": 97,
   "metadata": {},
   "outputs": [
    {
     "data": {
      "image/png": "[encoded data removed]",
      "text/plain": [
       "<Figure size 1000x600 with 1 Axes>"
      ]
     },
     "metadata": {},
     "output_type": "display_data"
    }
   ],
   "source": [
    "import matplotlib.pyplot as plt\n",
    "\n",
    "# Plotting max_depth vs. AUC\n",
    "plt.figure(figsize=(10, 6))\n",
    "plt.plot(df_scores['max_depth'], df_scores['auc'], marker='o', linestyle='-', color='b', label='AUC')\n",
    "plt.xlabel('Max Depth')\n",
    "plt.ylabel('AUC')\n",
    "plt.title('AUC vs Max Depth for Decision Tree')\n",
    "plt.grid(True)\n",
    "plt.legend()\n",
    "plt.show()\n"
   ]
  },
  {
   "cell_type": "code",
   "execution_count": 98,
   "metadata": {
    "id": "h0ue-LxY_hLl"
   },
   "outputs": [],
   "source": [
    "scores = []\n",
    "\n",
    "for depth in range(5, 50, 5):\n",
    "    for s in [1, 5, 10, 15, 20, 100, 200, 500]:\n",
    "        dt_model = DecisionTreeClassifier(max_depth=depth, min_samples_leaf=s, random_state=42)  # Adjust max_depth for regularization\n",
    "        dt_model.fit(X_train, y_train)\n",
    "        val_dict = df_val[categorical + numerical].to_dict(orient='records')\n",
    "        x_val = dv.fit_transform(val_dict)\n",
    "        # Predictions\n",
    "        dt_preds = dt_model.predict(x_val)\n",
    "        scores.append((depth, s, roc_auc_score(y_val, dt_preds)))\n"
   ]
  },
  {
   "cell_type": "code",
   "execution_count": 99,
   "metadata": {
    "colab": {
     "base_uri": "https://localhost:8080/",
     "height": 363
    },
    "id": "K-STvRUB_qCW",
    "outputId": "980611b0-cf1c-47e0-b65b-6f3178d1ff28"
   },
   "outputs": [
    {
     "data": {
      "text/html": [
       "<div>\n",
       "<style scoped>\n",
       "    .dataframe tbody tr th:only-of-type {\n",
       "        vertical-align: middle;\n",
       "    }\n",
       "\n",
       "    .dataframe tbody tr th {\n",
       "        vertical-align: top;\n",
       "    }\n",
       "\n",
       "    .dataframe thead tr th {\n",
       "        text-align: left;\n",
       "    }\n",
       "\n",
       "    .dataframe thead tr:last-of-type th {\n",
       "        text-align: right;\n",
       "    }\n",
       "</style>\n",
       "<table border=\"1\" class=\"dataframe\">\n",
       "  <thead>\n",
       "    <tr>\n",
       "      <th></th>\n",
       "      <th colspan=\"9\" halign=\"left\">auc</th>\n",
       "    </tr>\n",
       "    <tr>\n",
       "      <th>max_depth</th>\n",
       "      <th>5</th>\n",
       "      <th>10</th>\n",
       "      <th>15</th>\n",
       "      <th>20</th>\n",
       "      <th>25</th>\n",
       "      <th>30</th>\n",
       "      <th>35</th>\n",
       "      <th>40</th>\n",
       "      <th>45</th>\n",
       "    </tr>\n",
       "    <tr>\n",
       "      <th>min_samples_leaf</th>\n",
       "      <th></th>\n",
       "      <th></th>\n",
       "      <th></th>\n",
       "      <th></th>\n",
       "      <th></th>\n",
       "      <th></th>\n",
       "      <th></th>\n",
       "      <th></th>\n",
       "      <th></th>\n",
       "    </tr>\n",
       "  </thead>\n",
       "  <tbody>\n",
       "    <tr>\n",
       "      <th>1</th>\n",
       "      <td>0.850</td>\n",
       "      <td>0.928</td>\n",
       "      <td>0.945</td>\n",
       "      <td>0.952</td>\n",
       "      <td>0.952</td>\n",
       "      <td>0.952</td>\n",
       "      <td>0.952</td>\n",
       "      <td>0.951</td>\n",
       "      <td>0.952</td>\n",
       "    </tr>\n",
       "    <tr>\n",
       "      <th>5</th>\n",
       "      <td>0.850</td>\n",
       "      <td>0.928</td>\n",
       "      <td>0.947</td>\n",
       "      <td>0.953</td>\n",
       "      <td>0.952</td>\n",
       "      <td>0.952</td>\n",
       "      <td>0.952</td>\n",
       "      <td>0.952</td>\n",
       "      <td>0.952</td>\n",
       "    </tr>\n",
       "    <tr>\n",
       "      <th>10</th>\n",
       "      <td>0.850</td>\n",
       "      <td>0.927</td>\n",
       "      <td>0.947</td>\n",
       "      <td>0.952</td>\n",
       "      <td>0.951</td>\n",
       "      <td>0.951</td>\n",
       "      <td>0.951</td>\n",
       "      <td>0.951</td>\n",
       "      <td>0.951</td>\n",
       "    </tr>\n",
       "    <tr>\n",
       "      <th>15</th>\n",
       "      <td>0.850</td>\n",
       "      <td>0.927</td>\n",
       "      <td>0.947</td>\n",
       "      <td>0.951</td>\n",
       "      <td>0.950</td>\n",
       "      <td>0.951</td>\n",
       "      <td>0.951</td>\n",
       "      <td>0.951</td>\n",
       "      <td>0.951</td>\n",
       "    </tr>\n",
       "    <tr>\n",
       "      <th>20</th>\n",
       "      <td>0.850</td>\n",
       "      <td>0.927</td>\n",
       "      <td>0.946</td>\n",
       "      <td>0.949</td>\n",
       "      <td>0.949</td>\n",
       "      <td>0.949</td>\n",
       "      <td>0.949</td>\n",
       "      <td>0.949</td>\n",
       "      <td>0.949</td>\n",
       "    </tr>\n",
       "    <tr>\n",
       "      <th>100</th>\n",
       "      <td>0.849</td>\n",
       "      <td>0.923</td>\n",
       "      <td>0.930</td>\n",
       "      <td>0.930</td>\n",
       "      <td>0.930</td>\n",
       "      <td>0.930</td>\n",
       "      <td>0.930</td>\n",
       "      <td>0.930</td>\n",
       "      <td>0.930</td>\n",
       "    </tr>\n",
       "    <tr>\n",
       "      <th>200</th>\n",
       "      <td>0.849</td>\n",
       "      <td>0.918</td>\n",
       "      <td>0.927</td>\n",
       "      <td>0.927</td>\n",
       "      <td>0.927</td>\n",
       "      <td>0.927</td>\n",
       "      <td>0.927</td>\n",
       "      <td>0.927</td>\n",
       "      <td>0.927</td>\n",
       "    </tr>\n",
       "    <tr>\n",
       "      <th>500</th>\n",
       "      <td>0.852</td>\n",
       "      <td>0.914</td>\n",
       "      <td>0.918</td>\n",
       "      <td>0.918</td>\n",
       "      <td>0.918</td>\n",
       "      <td>0.918</td>\n",
       "      <td>0.918</td>\n",
       "      <td>0.918</td>\n",
       "      <td>0.918</td>\n",
       "    </tr>\n",
       "  </tbody>\n",
       "</table>\n",
       "</div>"
      ],
      "text/plain": [
       "                    auc                                                   \\\n",
       "max_depth            5      10     15     20     25     30     35     40   \n",
       "min_samples_leaf                                                           \n",
       "1                 0.850  0.928  0.945  0.952  0.952  0.952  0.952  0.951   \n",
       "5                 0.850  0.928  0.947  0.953  0.952  0.952  0.952  0.952   \n",
       "10                0.850  0.927  0.947  0.952  0.951  0.951  0.951  0.951   \n",
       "15                0.850  0.927  0.947  0.951  0.950  0.951  0.951  0.951   \n",
       "20                0.850  0.927  0.946  0.949  0.949  0.949  0.949  0.949   \n",
       "100               0.849  0.923  0.930  0.930  0.930  0.930  0.930  0.930   \n",
       "200               0.849  0.918  0.927  0.927  0.927  0.927  0.927  0.927   \n",
       "500               0.852  0.914  0.918  0.918  0.918  0.918  0.918  0.918   \n",
       "\n",
       "                         \n",
       "max_depth            45  \n",
       "min_samples_leaf         \n",
       "1                 0.952  \n",
       "5                 0.952  \n",
       "10                0.951  \n",
       "15                0.951  \n",
       "20                0.949  \n",
       "100               0.930  \n",
       "200               0.927  \n",
       "500               0.918  "
      ]
     },
     "execution_count": 99,
     "metadata": {},
     "output_type": "execute_result"
    }
   ],
   "source": [
    "columns = ['max_depth', 'min_samples_leaf', 'auc']\n",
    "df_scores = pd.DataFrame(scores, columns=columns)\n",
    "df_scores_pivot = df_scores.pivot(index='min_samples_leaf', columns=['max_depth'], values=['auc'])\n",
    "df_scores_pivot.round(3)"
   ]
  },
  {
   "cell_type": "code",
   "execution_count": 103,
   "metadata": {
    "colab": {
     "base_uri": "https://localhost:8080/",
     "height": 500
    },
    "id": "uOkZEkZ_-1Qd",
    "outputId": "592bb0a7-643f-4bc6-b179-1df419c4a3bf"
   },
   "outputs": [
    {
     "data": {
      "text/plain": [
       "<Axes: xlabel='None-max_depth', ylabel='min_samples_leaf'>"
      ]
     },
     "execution_count": 103,
     "metadata": {},
     "output_type": "execute_result"
    },
    {
     "data": {
      "image/png": "[encoded data removed]",
      "text/plain": [
       "<Figure size 640x480 with 2 Axes>"
      ]
     },
     "metadata": {},
     "output_type": "display_data"
    }
   ],
   "source": [
    "import seaborn as sns\n",
    "sns.heatmap(df_scores_pivot, annot=True, fmt=\".3f\")"
   ]
  },
  {
   "cell_type": "markdown",
   "metadata": {
    "id": "bvhVsW1VZAm_"
   },
   "source": [
    "**DecisionTree: max_depth = 20, min_samples_leaf = 5: ROC = 0.953**"
   ]
  },
  {
   "cell_type": "markdown",
   "metadata": {
    "id": "DvVnTXPG6hN9"
   },
   "source": [
    "### Random Forest"
   ]
  },
  {
   "cell_type": "code",
   "execution_count": 104,
   "metadata": {
    "colab": {
     "base_uri": "https://localhost:8080/"
    },
    "id": "T5d-tXEXMxSY",
    "outputId": "1ce7c1e0-7023-4476-bcbf-56f0112ea273"
   },
   "outputs": [
    {
     "name": "stdout",
     "output_type": "stream",
     "text": [
      "\n",
      "Random Forest Results\n",
      "ROC AUC Score: 0.8350532515442562\n",
      "Confusion Matrix:\n",
      " [[47727   199]\n",
      " [ 3933  8141]]\n",
      "Classification Report:\n",
      "               precision    recall  f1-score   support\n",
      "\n",
      "           0       0.92      1.00      0.96     47926\n",
      "           1       0.98      0.67      0.80     12074\n",
      "\n",
      "    accuracy                           0.93     60000\n",
      "   macro avg       0.95      0.84      0.88     60000\n",
      "weighted avg       0.93      0.93      0.93     60000\n",
      "\n"
     ]
    }
   ],
   "source": [
    "# Train Random Forest\n",
    "rf_model = RandomForestClassifier(n_estimators=100, max_depth=10, random_state=42)  # Adjust n_estimators and max_depth\n",
    "\n",
    "rf_model.fit(X_train, y_train)\n",
    "\n",
    "# Predictions\n",
    "rf_preds = rf_model.predict(x_val)\n",
    "\n",
    "# Evaluation for Random Forest\n",
    "print(\"\\nRandom Forest Results\")\n",
    "print(\"ROC AUC Score:\", roc_auc_score(y_val, rf_preds))\n",
    "print(\"Confusion Matrix:\\n\", confusion_matrix(y_val, rf_preds))\n",
    "print(\"Classification Report:\\n\", classification_report(y_val, rf_preds))\n"
   ]
  },
  {
   "cell_type": "markdown",
   "metadata": {},
   "source": [
    "**Random forest parameter tuning**"
   ]
  },
  {
   "cell_type": "code",
   "execution_count": 105,
   "metadata": {
    "id": "vPbdmo86cKdm"
   },
   "outputs": [],
   "source": [
    "scores = []\n",
    "\n",
    "for n in range(10, 201, 10):\n",
    "    rf = RandomForestClassifier(n_estimators=n, random_state=1)\n",
    "    rf.fit(X_train, y_train)\n",
    "\n",
    "    y_pred = rf.predict(x_val)\n",
    "    auc = roc_auc_score(y_val, y_pred)\n",
    "\n",
    "    scores.append((n, auc))\n"
   ]
  },
  {
   "cell_type": "code",
   "execution_count": 106,
   "metadata": {
    "colab": {
     "base_uri": "https://localhost:8080/",
     "height": 447
    },
    "id": "FdBRQJKhcrIV",
    "outputId": "06842b1d-b6e8-4f8c-8755-8e19c2ad9742"
   },
   "outputs": [
    {
     "data": {
      "text/plain": [
       "[<matplotlib.lines.Line2D at 0x359d0e5d0>]"
      ]
     },
     "execution_count": 106,
     "metadata": {},
     "output_type": "execute_result"
    },
    {
     "data": {
      "image/png": "[encoded data removed]",
      "text/plain": [
       "<Figure size 640x480 with 1 Axes>"
      ]
     },
     "metadata": {},
     "output_type": "display_data"
    }
   ],
   "source": [
    "df_scores = pd.DataFrame(scores, columns=['n_estimators', 'auc'])\n",
    "plt.plot(df_scores.n_estimators, df_scores.auc)"
   ]
  },
  {
   "cell_type": "code",
   "execution_count": 107,
   "metadata": {
    "colab": {
     "base_uri": "https://localhost:8080/",
     "height": 472
    },
    "id": "K3TXPC57lXfL",
    "outputId": "2aeaf690-f08a-450d-dd0b-3ce437dfe47e"
   },
   "outputs": [
    {
     "data": {
      "image/png": "[encoded data removed]",
      "text/plain": [
       "<Figure size 640x480 with 1 Axes>"
      ]
     },
     "metadata": {},
     "output_type": "display_data"
    }
   ],
   "source": [
    "# Filter the DataFrame for n_estimators between 100 and 150\n",
    "df_filtered = df_scores[(df_scores.n_estimators >= 100) & (df_scores.n_estimators <= 200)]\n",
    "\n",
    "# Plot the filtered data\n",
    "plt.plot(df_filtered.n_estimators, df_filtered.auc, marker='o')\n",
    "plt.xlabel('n_estimators')\n",
    "plt.ylabel('AUC')\n",
    "plt.title('AUC vs. n_estimators (100 to 200)')\n",
    "plt.grid(True)\n",
    "plt.show()\n"
   ]
  },
  {
   "cell_type": "code",
   "execution_count": 109,
   "metadata": {
    "id": "ClWXZoNWqQuV"
   },
   "outputs": [],
   "source": [
    "scores = []\n",
    "for d in [20, 30, 40, 50]:\n",
    "  for n in range(120, 181, 10):\n",
    "      rf = RandomForestClassifier(n_estimators=n, max_depth = d, random_state=1)\n",
    "      rf.fit(X_train, y_train)\n",
    "\n",
    "      y_pred = rf.predict(x_val)\n",
    "      auc = roc_auc_score(y_val, y_pred)\n",
    "\n",
    "      scores.append((d, n, auc))\n"
   ]
  },
  {
   "cell_type": "code",
   "execution_count": 110,
   "metadata": {
    "id": "BqYyCCvPerY5"
   },
   "outputs": [],
   "source": [
    "import matplotlib.pyplot as plt"
   ]
  },
  {
   "cell_type": "code",
   "execution_count": 112,
   "metadata": {
    "colab": {
     "base_uri": "https://localhost:8080/",
     "height": 447
    },
    "id": "0-gv_ngWsPJ6",
    "outputId": "241a2aa5-3c22-476b-da9e-461f3446d420"
   },
   "outputs": [
    {
     "data": {
      "text/plain": [
       "<matplotlib.legend.Legend at 0x4179fff90>"
      ]
     },
     "execution_count": 112,
     "metadata": {},
     "output_type": "execute_result"
    },
    {
     "data": {
      "image/png": "[encoded data removed]",
      "text/plain": [
       "<Figure size 640x480 with 1 Axes>"
      ]
     },
     "metadata": {},
     "output_type": "display_data"
    }
   ],
   "source": [
    "columns = ['max_depth', 'n_estimators', 'auc']\n",
    "df_scores = pd.DataFrame(scores, columns=columns)\n",
    "for d in [20, 30, 40, 50]:\n",
    "    df_subset = df_scores[df_scores.max_depth == d]\n",
    "\n",
    "    plt.plot(df_subset.n_estimators, df_subset.auc,\n",
    "             label='max_depth=%d' % d)\n",
    "\n",
    "plt.legend()"
   ]
  },
  {
   "cell_type": "code",
   "execution_count": 121,
   "metadata": {},
   "outputs": [],
   "source": [
    "scores = []\n",
    "for d in [50, 60, 70]:\n",
    "  for n in range(120, 181, 10):\n",
    "      rf = RandomForestClassifier(n_estimators=n, max_depth = d, random_state=1)\n",
    "      rf.fit(X_train, y_train)\n",
    "\n",
    "      y_pred = rf.predict(x_val)\n",
    "      auc = roc_auc_score(y_val, y_pred)\n",
    "\n",
    "      scores.append((d, n, auc))\n"
   ]
  },
  {
   "cell_type": "code",
   "execution_count": 123,
   "metadata": {},
   "outputs": [
    {
     "data": {
      "text/plain": [
       "<matplotlib.legend.Legend at 0x35ea26fd0>"
      ]
     },
     "execution_count": 123,
     "metadata": {},
     "output_type": "execute_result"
    },
    {
     "data": {
      "image/png": "[encoded data removed]",
      "text/plain": [
       "<Figure size 640x480 with 1 Axes>"
      ]
     },
     "metadata": {},
     "output_type": "display_data"
    }
   ],
   "source": [
    "columns = ['max_depth', 'n_estimators', 'auc']\n",
    "df_scores = pd.DataFrame(scores, columns=columns)\n",
    "for d in [50, 60, 70]:\n",
    "    df_subset = df_scores[df_scores.max_depth == d]\n",
    "\n",
    "    plt.plot(df_subset.n_estimators, df_subset.auc,\n",
    "             label='max_depth=%d' % d)\n",
    "\n",
    "plt.legend()"
   ]
  },
  {
   "cell_type": "code",
   "execution_count": 124,
   "metadata": {},
   "outputs": [],
   "source": [
    "depth = 70\n",
    "estimator = 150\n",
    "scores = []\n",
    "\n",
    "for s in [1, 3, 5, 10, 50]:\n",
    "  rf = RandomForestClassifier(n_estimators=estimator,\n",
    "                                    max_depth=depth,\n",
    "                                    min_samples_leaf=s,\n",
    "                                    random_state=1)\n",
    "  rf.fit(X_train, y_train)\n",
    "  y_pred = rf.predict(x_val)\n",
    "  auc = roc_auc_score(y_val, y_pred)\n",
    "  scores.append((s, estimator, auc))\n"
   ]
  },
  {
   "cell_type": "code",
   "execution_count": 125,
   "metadata": {},
   "outputs": [
    {
     "data": {
      "text/plain": [
       "[(1, 150, 0.921417395382566),\n",
       " (3, 150, 0.9173417395299616),\n",
       " (5, 150, 0.9048074266335355),\n",
       " (10, 150, 0.8942513823575855),\n",
       " (50, 150, 0.8599337681233223)]"
      ]
     },
     "execution_count": 125,
     "metadata": {},
     "output_type": "execute_result"
    }
   ],
   "source": [
    "scores"
   ]
  },
  {
   "cell_type": "markdown",
   "metadata": {},
   "source": [
    "**RandomForest: n_estimators = 150, max_depth = 70, min_samples_leaf = 1**"
   ]
  },
  {
   "cell_type": "markdown",
   "metadata": {},
   "source": [
    "### XGBoost"
   ]
  },
  {
   "cell_type": "code",
   "execution_count": 130,
   "metadata": {},
   "outputs": [],
   "source": [
    "import xgboost as xgb"
   ]
  },
  {
   "cell_type": "code",
   "execution_count": 131,
   "metadata": {},
   "outputs": [],
   "source": [
    "features = list(dv.get_feature_names_out())\n",
    "\n",
    "dtrain = xgb.DMatrix(X_train, label=y_train, feature_names=features)\n",
    "dval = xgb.DMatrix(x_val, label=y_val, feature_names=features)"
   ]
  },
  {
   "cell_type": "code",
   "execution_count": 132,
   "metadata": {},
   "outputs": [],
   "source": [
    "xgb_params = {\n",
    "    'eta': 0.3, \n",
    "    'max_depth': 6,\n",
    "    'min_child_weight': 1,\n",
    "    \n",
    "    'objective': 'binary:logistic',\n",
    "    'nthread': 8,\n",
    "    \n",
    "    'seed': 1,\n",
    "    'verbosity': 1,\n",
    "}"
   ]
  },
  {
   "cell_type": "code",
   "execution_count": 133,
   "metadata": {},
   "outputs": [],
   "source": [
    "model = xgb.train(xgb_params, dtrain, num_boost_round=10)\n",
    "y_pred = model.predict(dval)"
   ]
  },
  {
   "cell_type": "code",
   "execution_count": 134,
   "metadata": {},
   "outputs": [
    {
     "data": {
      "text/plain": [
       "0.983276127286427"
      ]
     },
     "execution_count": 134,
     "metadata": {},
     "output_type": "execute_result"
    }
   ],
   "source": [
    "roc_auc_score(y_val, y_pred)"
   ]
  },
  {
   "cell_type": "code",
   "execution_count": 135,
   "metadata": {},
   "outputs": [
    {
     "name": "stdout",
     "output_type": "stream",
     "text": [
      "[0]\ttrain-auc:0.97215\tvalidation-auc:0.97169\n",
      "[5]\ttrain-auc:0.97648\tvalidation-auc:0.97595\n",
      "[10]\ttrain-auc:0.97793\tvalidation-auc:0.97759\n",
      "[15]\ttrain-auc:0.97818\tvalidation-auc:0.97775\n",
      "[20]\ttrain-auc:0.97974\tvalidation-auc:0.97931\n",
      "[25]\ttrain-auc:0.98203\tvalidation-auc:0.98167\n",
      "[30]\ttrain-auc:0.98348\tvalidation-auc:0.98331\n",
      "[35]\ttrain-auc:0.98429\tvalidation-auc:0.98405\n",
      "[40]\ttrain-auc:0.98510\tvalidation-auc:0.98481\n",
      "[45]\ttrain-auc:0.98667\tvalidation-auc:0.98629\n",
      "[50]\ttrain-auc:0.98770\tvalidation-auc:0.98725\n",
      "[55]\ttrain-auc:0.98860\tvalidation-auc:0.98810\n",
      "[60]\ttrain-auc:0.98922\tvalidation-auc:0.98871\n",
      "[65]\ttrain-auc:0.99072\tvalidation-auc:0.99021\n",
      "[70]\ttrain-auc:0.99145\tvalidation-auc:0.99093\n",
      "[75]\ttrain-auc:0.99206\tvalidation-auc:0.99149\n",
      "[80]\ttrain-auc:0.99259\tvalidation-auc:0.99204\n",
      "[85]\ttrain-auc:0.99295\tvalidation-auc:0.99240\n",
      "[90]\ttrain-auc:0.99326\tvalidation-auc:0.99263\n",
      "[95]\ttrain-auc:0.99347\tvalidation-auc:0.99280\n",
      "[100]\ttrain-auc:0.99376\tvalidation-auc:0.99307\n",
      "[105]\ttrain-auc:0.99404\tvalidation-auc:0.99335\n",
      "[110]\ttrain-auc:0.99424\tvalidation-auc:0.99353\n",
      "[115]\ttrain-auc:0.99443\tvalidation-auc:0.99371\n",
      "[120]\ttrain-auc:0.99468\tvalidation-auc:0.99392\n",
      "[125]\ttrain-auc:0.99482\tvalidation-auc:0.99404\n",
      "[130]\ttrain-auc:0.99491\tvalidation-auc:0.99412\n",
      "[135]\ttrain-auc:0.99515\tvalidation-auc:0.99436\n",
      "[140]\ttrain-auc:0.99527\tvalidation-auc:0.99445\n",
      "[145]\ttrain-auc:0.99537\tvalidation-auc:0.99453\n",
      "[150]\ttrain-auc:0.99552\tvalidation-auc:0.99462\n",
      "[155]\ttrain-auc:0.99564\tvalidation-auc:0.99470\n",
      "[160]\ttrain-auc:0.99573\tvalidation-auc:0.99479\n",
      "[165]\ttrain-auc:0.99586\tvalidation-auc:0.99487\n",
      "[170]\ttrain-auc:0.99596\tvalidation-auc:0.99493\n",
      "[175]\ttrain-auc:0.99609\tvalidation-auc:0.99505\n",
      "[180]\ttrain-auc:0.99618\tvalidation-auc:0.99510\n",
      "[185]\ttrain-auc:0.99627\tvalidation-auc:0.99517\n",
      "[190]\ttrain-auc:0.99635\tvalidation-auc:0.99523\n",
      "[195]\ttrain-auc:0.99644\tvalidation-auc:0.99527\n",
      "[199]\ttrain-auc:0.99651\tvalidation-auc:0.99532\n",
      "[0]\ttrain-auc:0.97215\tvalidation-auc:0.97169\n",
      "[5]\ttrain-auc:0.98074\tvalidation-auc:0.98025\n",
      "[10]\ttrain-auc:0.98366\tvalidation-auc:0.98349\n",
      "[15]\ttrain-auc:0.98806\tvalidation-auc:0.98763\n",
      "[20]\ttrain-auc:0.99008\tvalidation-auc:0.98944\n",
      "[25]\ttrain-auc:0.99154\tvalidation-auc:0.99085\n",
      "[30]\ttrain-auc:0.99338\tvalidation-auc:0.99261\n",
      "[35]\ttrain-auc:0.99402\tvalidation-auc:0.99312\n",
      "[40]\ttrain-auc:0.99484\tvalidation-auc:0.99380\n",
      "[45]\ttrain-auc:0.99545\tvalidation-auc:0.99438\n",
      "[50]\ttrain-auc:0.99574\tvalidation-auc:0.99463\n",
      "[55]\ttrain-auc:0.99615\tvalidation-auc:0.99499\n",
      "[60]\ttrain-auc:0.99645\tvalidation-auc:0.99520\n",
      "[65]\ttrain-auc:0.99664\tvalidation-auc:0.99533\n",
      "[70]\ttrain-auc:0.99684\tvalidation-auc:0.99548\n",
      "[75]\ttrain-auc:0.99705\tvalidation-auc:0.99553\n",
      "[80]\ttrain-auc:0.99714\tvalidation-auc:0.99555\n",
      "[85]\ttrain-auc:0.99732\tvalidation-auc:0.99563\n",
      "[90]\ttrain-auc:0.99748\tvalidation-auc:0.99567\n",
      "[95]\ttrain-auc:0.99760\tvalidation-auc:0.99570\n",
      "[100]\ttrain-auc:0.99775\tvalidation-auc:0.99578\n",
      "[105]\ttrain-auc:0.99789\tvalidation-auc:0.99589\n",
      "[110]\ttrain-auc:0.99800\tvalidation-auc:0.99592\n",
      "[115]\ttrain-auc:0.99808\tvalidation-auc:0.99592\n",
      "[120]\ttrain-auc:0.99815\tvalidation-auc:0.99592\n",
      "[125]\ttrain-auc:0.99823\tvalidation-auc:0.99598\n",
      "[130]\ttrain-auc:0.99834\tvalidation-auc:0.99605\n",
      "[135]\ttrain-auc:0.99842\tvalidation-auc:0.99604\n",
      "[140]\ttrain-auc:0.99846\tvalidation-auc:0.99604\n",
      "[145]\ttrain-auc:0.99854\tvalidation-auc:0.99606\n",
      "[150]\ttrain-auc:0.99860\tvalidation-auc:0.99609\n",
      "[155]\ttrain-auc:0.99869\tvalidation-auc:0.99609\n",
      "[160]\ttrain-auc:0.99873\tvalidation-auc:0.99608\n",
      "[165]\ttrain-auc:0.99878\tvalidation-auc:0.99608\n",
      "[170]\ttrain-auc:0.99885\tvalidation-auc:0.99613\n",
      "[175]\ttrain-auc:0.99890\tvalidation-auc:0.99618\n",
      "[180]\ttrain-auc:0.99895\tvalidation-auc:0.99617\n",
      "[185]\ttrain-auc:0.99900\tvalidation-auc:0.99617\n",
      "[190]\ttrain-auc:0.99904\tvalidation-auc:0.99618\n",
      "[195]\ttrain-auc:0.99908\tvalidation-auc:0.99622\n",
      "[199]\ttrain-auc:0.99911\tvalidation-auc:0.99623\n",
      "[0]\ttrain-auc:0.97215\tvalidation-auc:0.97169\n",
      "[5]\ttrain-auc:0.98321\tvalidation-auc:0.98269\n",
      "[10]\ttrain-auc:0.98912\tvalidation-auc:0.98820\n",
      "[15]\ttrain-auc:0.99186\tvalidation-auc:0.99088\n",
      "[20]\ttrain-auc:0.99331\tvalidation-auc:0.99220\n",
      "[25]\ttrain-auc:0.99500\tvalidation-auc:0.99403\n",
      "[30]\ttrain-auc:0.99561\tvalidation-auc:0.99449\n",
      "[35]\ttrain-auc:0.99595\tvalidation-auc:0.99460\n",
      "[40]\ttrain-auc:0.99644\tvalidation-auc:0.99490\n",
      "[45]\ttrain-auc:0.99681\tvalidation-auc:0.99514\n",
      "[50]\ttrain-auc:0.99710\tvalidation-auc:0.99526\n",
      "[55]\ttrain-auc:0.99736\tvalidation-auc:0.99546\n",
      "[60]\ttrain-auc:0.99764\tvalidation-auc:0.99561\n",
      "[65]\ttrain-auc:0.99782\tvalidation-auc:0.99572\n",
      "[70]\ttrain-auc:0.99801\tvalidation-auc:0.99571\n",
      "[75]\ttrain-auc:0.99813\tvalidation-auc:0.99570\n",
      "[80]\ttrain-auc:0.99823\tvalidation-auc:0.99575\n",
      "[85]\ttrain-auc:0.99841\tvalidation-auc:0.99592\n",
      "[90]\ttrain-auc:0.99852\tvalidation-auc:0.99590\n",
      "[95]\ttrain-auc:0.99862\tvalidation-auc:0.99591\n",
      "[100]\ttrain-auc:0.99873\tvalidation-auc:0.99594\n",
      "[105]\ttrain-auc:0.99881\tvalidation-auc:0.99593\n",
      "[110]\ttrain-auc:0.99890\tvalidation-auc:0.99593\n",
      "[115]\ttrain-auc:0.99897\tvalidation-auc:0.99593\n",
      "[120]\ttrain-auc:0.99906\tvalidation-auc:0.99593\n",
      "[125]\ttrain-auc:0.99915\tvalidation-auc:0.99592\n",
      "[130]\ttrain-auc:0.99922\tvalidation-auc:0.99594\n",
      "[135]\ttrain-auc:0.99927\tvalidation-auc:0.99595\n",
      "[140]\ttrain-auc:0.99934\tvalidation-auc:0.99594\n",
      "[145]\ttrain-auc:0.99939\tvalidation-auc:0.99592\n",
      "[150]\ttrain-auc:0.99944\tvalidation-auc:0.99595\n",
      "[155]\ttrain-auc:0.99949\tvalidation-auc:0.99594\n",
      "[160]\ttrain-auc:0.99954\tvalidation-auc:0.99592\n",
      "[165]\ttrain-auc:0.99957\tvalidation-auc:0.99592\n",
      "[170]\ttrain-auc:0.99961\tvalidation-auc:0.99593\n",
      "[175]\ttrain-auc:0.99964\tvalidation-auc:0.99591\n",
      "[180]\ttrain-auc:0.99967\tvalidation-auc:0.99589\n",
      "[185]\ttrain-auc:0.99971\tvalidation-auc:0.99586\n",
      "[190]\ttrain-auc:0.99973\tvalidation-auc:0.99587\n",
      "[195]\ttrain-auc:0.99975\tvalidation-auc:0.99589\n",
      "[199]\ttrain-auc:0.99977\tvalidation-auc:0.99588\n",
      "[0]\ttrain-auc:0.97215\tvalidation-auc:0.97169\n",
      "[5]\ttrain-auc:0.98761\tvalidation-auc:0.98720\n",
      "[10]\ttrain-auc:0.99294\tvalidation-auc:0.99192\n",
      "[15]\ttrain-auc:0.99481\tvalidation-auc:0.99324\n",
      "[20]\ttrain-auc:0.99538\tvalidation-auc:0.99350\n",
      "[25]\ttrain-auc:0.99631\tvalidation-auc:0.99424\n",
      "[30]\ttrain-auc:0.99682\tvalidation-auc:0.99433\n",
      "[35]\ttrain-auc:0.99727\tvalidation-auc:0.99419\n",
      "[40]\ttrain-auc:0.99764\tvalidation-auc:0.99435\n",
      "[45]\ttrain-auc:0.99802\tvalidation-auc:0.99450\n",
      "[50]\ttrain-auc:0.99820\tvalidation-auc:0.99443\n",
      "[55]\ttrain-auc:0.99847\tvalidation-auc:0.99435\n",
      "[60]\ttrain-auc:0.99867\tvalidation-auc:0.99430\n",
      "[65]\ttrain-auc:0.99882\tvalidation-auc:0.99433\n",
      "[70]\ttrain-auc:0.99898\tvalidation-auc:0.99425\n",
      "[75]\ttrain-auc:0.99909\tvalidation-auc:0.99442\n",
      "[80]\ttrain-auc:0.99920\tvalidation-auc:0.99436\n",
      "[85]\ttrain-auc:0.99930\tvalidation-auc:0.99435\n",
      "[90]\ttrain-auc:0.99939\tvalidation-auc:0.99423\n",
      "[95]\ttrain-auc:0.99946\tvalidation-auc:0.99423\n",
      "[100]\ttrain-auc:0.99953\tvalidation-auc:0.99416\n",
      "[105]\ttrain-auc:0.99958\tvalidation-auc:0.99405\n",
      "[110]\ttrain-auc:0.99964\tvalidation-auc:0.99406\n",
      "[115]\ttrain-auc:0.99969\tvalidation-auc:0.99407\n",
      "[120]\ttrain-auc:0.99973\tvalidation-auc:0.99406\n",
      "[125]\ttrain-auc:0.99976\tvalidation-auc:0.99414\n",
      "[130]\ttrain-auc:0.99979\tvalidation-auc:0.99415\n",
      "[135]\ttrain-auc:0.99981\tvalidation-auc:0.99416\n",
      "[140]\ttrain-auc:0.99982\tvalidation-auc:0.99415\n",
      "[145]\ttrain-auc:0.99983\tvalidation-auc:0.99416\n",
      "[150]\ttrain-auc:0.99985\tvalidation-auc:0.99417\n",
      "[155]\ttrain-auc:0.99986\tvalidation-auc:0.99411\n",
      "[160]\ttrain-auc:0.99987\tvalidation-auc:0.99406\n",
      "[165]\ttrain-auc:0.99988\tvalidation-auc:0.99406\n",
      "[170]\ttrain-auc:0.99988\tvalidation-auc:0.99407\n",
      "[175]\ttrain-auc:0.99989\tvalidation-auc:0.99406\n",
      "[180]\ttrain-auc:0.99990\tvalidation-auc:0.99404\n",
      "[185]\ttrain-auc:0.99990\tvalidation-auc:0.99411\n",
      "[190]\ttrain-auc:0.99991\tvalidation-auc:0.99408\n",
      "[195]\ttrain-auc:0.99992\tvalidation-auc:0.99410\n",
      "[199]\ttrain-auc:0.99993\tvalidation-auc:0.99412\n"
     ]
    }
   ],
   "source": [
    "# Define the watchlist with both training and validation datasets\n",
    "watchlist = [(dtrain, 'train'), (dval, 'validation')]\n",
    "\n",
    "scores = {}\n",
    "eta_values = [0.1, 0.3, 0.5, 1]  # List of eta values to test\n",
    "\n",
    "for eta in eta_values:\n",
    "    xgb_params = {\n",
    "        'eta': eta,  # Set the current eta value\n",
    "        'max_depth': 6,\n",
    "        'min_child_weight': 1,\n",
    "        'objective': 'binary:logistic',\n",
    "        'eval_metric': 'auc',\n",
    "        'nthread': 8,\n",
    "        'seed': 1,\n",
    "        'verbosity': 1,\n",
    "    }\n",
    "    \n",
    "    # Dictionary to store evaluation results\n",
    "    evals_result = {}\n",
    "    \n",
    "    # Train the model\n",
    "    model = xgb.train(\n",
    "        xgb_params,\n",
    "        dtrain,\n",
    "        num_boost_round=200,\n",
    "        evals=watchlist,  # Pass the watchlist here\n",
    "        evals_result=evals_result,  # Capture evaluation results directly\n",
    "        verbose_eval=5\n",
    "    )\n",
    "    \n",
    "    # Extract validation AUC for each boosting round\n",
    "    num_iter = list(range(len(evals_result['validation']['auc'])))  # Use the correct key 'validation'\n",
    "    val_auc = evals_result['validation']['auc']\n",
    "    df_scores = pd.DataFrame({'num_iter': num_iter, 'val_auc': val_auc})\n",
    "    scores[f'eta={eta}'] = df_scores\n"
   ]
  },
  {
   "cell_type": "code",
   "execution_count": 136,
   "metadata": {},
   "outputs": [
    {
     "data": {
      "image/png": "[encoded data removed]",
      "text/plain": [
       "<Figure size 1000x600 with 1 Axes>"
      ]
     },
     "metadata": {},
     "output_type": "display_data"
    }
   ],
   "source": [
    "# Plotting the results\n",
    "plt.figure(figsize=(10, 6))\n",
    "for eta, df_scores in scores.items():\n",
    "    plt.plot(df_scores.num_iter, df_scores.val_auc, label=eta)\n",
    "\n",
    "plt.xlabel(\"Number of Boosting Rounds\")\n",
    "plt.ylabel(\"Validation AUC\")\n",
    "plt.title(\"Validation AUC vs. Number of Boosting Rounds for Different Eta Values\")\n",
    "plt.legend(title=\"Eta Values\")\n",
    "plt.grid(True)\n",
    "plt.show()"
   ]
  },
  {
   "cell_type": "code",
   "execution_count": 137,
   "metadata": {},
   "outputs": [
    {
     "name": "stdout",
     "output_type": "stream",
     "text": [
      "[0]\ttrain-auc:0.94854\tvalidation-auc:0.94753\n",
      "[5]\ttrain-auc:0.97671\tvalidation-auc:0.97598\n",
      "[10]\ttrain-auc:0.98217\tvalidation-auc:0.98192\n",
      "[15]\ttrain-auc:0.98409\tvalidation-auc:0.98399\n",
      "[20]\ttrain-auc:0.98654\tvalidation-auc:0.98636\n",
      "[25]\ttrain-auc:0.98816\tvalidation-auc:0.98792\n",
      "[30]\ttrain-auc:0.98905\tvalidation-auc:0.98887\n",
      "[35]\ttrain-auc:0.98976\tvalidation-auc:0.98952\n",
      "[40]\ttrain-auc:0.99017\tvalidation-auc:0.98990\n",
      "[45]\ttrain-auc:0.99146\tvalidation-auc:0.99126\n",
      "[50]\ttrain-auc:0.99205\tvalidation-auc:0.99187\n",
      "[55]\ttrain-auc:0.99239\tvalidation-auc:0.99220\n",
      "[60]\ttrain-auc:0.99277\tvalidation-auc:0.99249\n",
      "[65]\ttrain-auc:0.99295\tvalidation-auc:0.99267\n",
      "[70]\ttrain-auc:0.99322\tvalidation-auc:0.99289\n",
      "[75]\ttrain-auc:0.99332\tvalidation-auc:0.99295\n",
      "[80]\ttrain-auc:0.99345\tvalidation-auc:0.99302\n",
      "[85]\ttrain-auc:0.99373\tvalidation-auc:0.99333\n",
      "[90]\ttrain-auc:0.99392\tvalidation-auc:0.99354\n",
      "[95]\ttrain-auc:0.99400\tvalidation-auc:0.99364\n",
      "[100]\ttrain-auc:0.99417\tvalidation-auc:0.99382\n",
      "[105]\ttrain-auc:0.99433\tvalidation-auc:0.99399\n",
      "[110]\ttrain-auc:0.99450\tvalidation-auc:0.99411\n",
      "[115]\ttrain-auc:0.99460\tvalidation-auc:0.99424\n",
      "[120]\ttrain-auc:0.99474\tvalidation-auc:0.99435\n",
      "[125]\ttrain-auc:0.99492\tvalidation-auc:0.99452\n",
      "[130]\ttrain-auc:0.99503\tvalidation-auc:0.99458\n",
      "[135]\ttrain-auc:0.99516\tvalidation-auc:0.99469\n",
      "[140]\ttrain-auc:0.99523\tvalidation-auc:0.99471\n",
      "[145]\ttrain-auc:0.99528\tvalidation-auc:0.99472\n",
      "[150]\ttrain-auc:0.99533\tvalidation-auc:0.99475\n",
      "[155]\ttrain-auc:0.99539\tvalidation-auc:0.99481\n",
      "[160]\ttrain-auc:0.99548\tvalidation-auc:0.99491\n",
      "[165]\ttrain-auc:0.99553\tvalidation-auc:0.99496\n",
      "[170]\ttrain-auc:0.99560\tvalidation-auc:0.99502\n",
      "[175]\ttrain-auc:0.99567\tvalidation-auc:0.99507\n",
      "[180]\ttrain-auc:0.99574\tvalidation-auc:0.99513\n",
      "[185]\ttrain-auc:0.99579\tvalidation-auc:0.99515\n",
      "[190]\ttrain-auc:0.99586\tvalidation-auc:0.99524\n",
      "[195]\ttrain-auc:0.99593\tvalidation-auc:0.99525\n",
      "[199]\ttrain-auc:0.99600\tvalidation-auc:0.99531\n",
      "[0]\ttrain-auc:0.97215\tvalidation-auc:0.97169\n",
      "[5]\ttrain-auc:0.98321\tvalidation-auc:0.98269\n",
      "[10]\ttrain-auc:0.98912\tvalidation-auc:0.98820\n",
      "[15]\ttrain-auc:0.99186\tvalidation-auc:0.99088\n",
      "[20]\ttrain-auc:0.99331\tvalidation-auc:0.99220\n",
      "[25]\ttrain-auc:0.99500\tvalidation-auc:0.99403\n",
      "[30]\ttrain-auc:0.99561\tvalidation-auc:0.99449\n",
      "[35]\ttrain-auc:0.99595\tvalidation-auc:0.99460\n",
      "[40]\ttrain-auc:0.99644\tvalidation-auc:0.99490\n",
      "[45]\ttrain-auc:0.99681\tvalidation-auc:0.99514\n",
      "[50]\ttrain-auc:0.99710\tvalidation-auc:0.99526\n",
      "[55]\ttrain-auc:0.99736\tvalidation-auc:0.99546\n",
      "[60]\ttrain-auc:0.99764\tvalidation-auc:0.99561\n",
      "[65]\ttrain-auc:0.99782\tvalidation-auc:0.99572\n",
      "[70]\ttrain-auc:0.99801\tvalidation-auc:0.99571\n",
      "[75]\ttrain-auc:0.99813\tvalidation-auc:0.99570\n",
      "[80]\ttrain-auc:0.99823\tvalidation-auc:0.99575\n",
      "[85]\ttrain-auc:0.99841\tvalidation-auc:0.99592\n",
      "[90]\ttrain-auc:0.99852\tvalidation-auc:0.99590\n",
      "[95]\ttrain-auc:0.99862\tvalidation-auc:0.99591\n",
      "[100]\ttrain-auc:0.99873\tvalidation-auc:0.99594\n",
      "[105]\ttrain-auc:0.99881\tvalidation-auc:0.99593\n",
      "[110]\ttrain-auc:0.99890\tvalidation-auc:0.99593\n",
      "[115]\ttrain-auc:0.99897\tvalidation-auc:0.99593\n",
      "[120]\ttrain-auc:0.99906\tvalidation-auc:0.99593\n",
      "[125]\ttrain-auc:0.99915\tvalidation-auc:0.99592\n",
      "[130]\ttrain-auc:0.99922\tvalidation-auc:0.99594\n",
      "[135]\ttrain-auc:0.99927\tvalidation-auc:0.99595\n",
      "[140]\ttrain-auc:0.99934\tvalidation-auc:0.99594\n",
      "[145]\ttrain-auc:0.99939\tvalidation-auc:0.99592\n",
      "[150]\ttrain-auc:0.99944\tvalidation-auc:0.99595\n",
      "[155]\ttrain-auc:0.99949\tvalidation-auc:0.99594\n",
      "[160]\ttrain-auc:0.99954\tvalidation-auc:0.99592\n",
      "[165]\ttrain-auc:0.99957\tvalidation-auc:0.99592\n",
      "[170]\ttrain-auc:0.99961\tvalidation-auc:0.99593\n",
      "[175]\ttrain-auc:0.99964\tvalidation-auc:0.99591\n",
      "[180]\ttrain-auc:0.99967\tvalidation-auc:0.99589\n",
      "[185]\ttrain-auc:0.99971\tvalidation-auc:0.99586\n",
      "[190]\ttrain-auc:0.99973\tvalidation-auc:0.99587\n",
      "[195]\ttrain-auc:0.99975\tvalidation-auc:0.99589\n",
      "[199]\ttrain-auc:0.99977\tvalidation-auc:0.99588\n",
      "[0]\ttrain-auc:0.98554\tvalidation-auc:0.98495\n",
      "[5]\ttrain-auc:0.99191\tvalidation-auc:0.98978\n",
      "[10]\ttrain-auc:0.99521\tvalidation-auc:0.99240\n",
      "[15]\ttrain-auc:0.99716\tvalidation-auc:0.99397\n",
      "[20]\ttrain-auc:0.99850\tvalidation-auc:0.99534\n",
      "[25]\ttrain-auc:0.99891\tvalidation-auc:0.99535\n",
      "[30]\ttrain-auc:0.99926\tvalidation-auc:0.99531\n",
      "[35]\ttrain-auc:0.99953\tvalidation-auc:0.99556\n",
      "[40]\ttrain-auc:0.99966\tvalidation-auc:0.99553\n",
      "[45]\ttrain-auc:0.99980\tvalidation-auc:0.99546\n",
      "[50]\ttrain-auc:0.99985\tvalidation-auc:0.99540\n",
      "[55]\ttrain-auc:0.99990\tvalidation-auc:0.99554\n",
      "[60]\ttrain-auc:0.99994\tvalidation-auc:0.99554\n",
      "[65]\ttrain-auc:0.99997\tvalidation-auc:0.99555\n",
      "[70]\ttrain-auc:0.99998\tvalidation-auc:0.99550\n",
      "[75]\ttrain-auc:0.99999\tvalidation-auc:0.99553\n",
      "[80]\ttrain-auc:0.99999\tvalidation-auc:0.99550\n",
      "[85]\ttrain-auc:1.00000\tvalidation-auc:0.99560\n",
      "[90]\ttrain-auc:1.00000\tvalidation-auc:0.99555\n",
      "[95]\ttrain-auc:1.00000\tvalidation-auc:0.99555\n",
      "[100]\ttrain-auc:1.00000\tvalidation-auc:0.99555\n",
      "[105]\ttrain-auc:1.00000\tvalidation-auc:0.99554\n",
      "[110]\ttrain-auc:1.00000\tvalidation-auc:0.99550\n",
      "[115]\ttrain-auc:1.00000\tvalidation-auc:0.99548\n",
      "[120]\ttrain-auc:1.00000\tvalidation-auc:0.99548\n",
      "[125]\ttrain-auc:1.00000\tvalidation-auc:0.99552\n",
      "[130]\ttrain-auc:1.00000\tvalidation-auc:0.99548\n",
      "[135]\ttrain-auc:1.00000\tvalidation-auc:0.99549\n",
      "[140]\ttrain-auc:1.00000\tvalidation-auc:0.99547\n",
      "[145]\ttrain-auc:1.00000\tvalidation-auc:0.99548\n",
      "[150]\ttrain-auc:1.00000\tvalidation-auc:0.99545\n",
      "[155]\ttrain-auc:1.00000\tvalidation-auc:0.99547\n",
      "[160]\ttrain-auc:1.00000\tvalidation-auc:0.99548\n",
      "[165]\ttrain-auc:1.00000\tvalidation-auc:0.99548\n",
      "[170]\ttrain-auc:1.00000\tvalidation-auc:0.99546\n",
      "[175]\ttrain-auc:1.00000\tvalidation-auc:0.99546\n",
      "[180]\ttrain-auc:1.00000\tvalidation-auc:0.99545\n",
      "[185]\ttrain-auc:1.00000\tvalidation-auc:0.99547\n",
      "[190]\ttrain-auc:1.00000\tvalidation-auc:0.99547\n",
      "[195]\ttrain-auc:1.00000\tvalidation-auc:0.99550\n",
      "[199]\ttrain-auc:1.00000\tvalidation-auc:0.99554\n"
     ]
    }
   ],
   "source": [
    "# Define the watchlist with both training and validation datasets\n",
    "watchlist = [(dtrain, 'train'), (dval, 'validation')]\n",
    "\n",
    "scores = {}\n",
    "eta = 0.5\n",
    "depth_values = [3,6,10]\n",
    "\n",
    "for depth in depth_values:\n",
    "    xgb_params = {\n",
    "        'eta': eta,  # Set the current eta value\n",
    "        'max_depth': depth,\n",
    "        'min_child_weight': 1,\n",
    "        'objective': 'binary:logistic',\n",
    "        'eval_metric': 'auc',\n",
    "        'nthread': 8,\n",
    "        'seed': 1,\n",
    "        'verbosity': 1,\n",
    "    }\n",
    "    \n",
    "    # Dictionary to store evaluation results\n",
    "    evals_result = {}\n",
    "    \n",
    "    # Train the model\n",
    "    model = xgb.train(\n",
    "        xgb_params,\n",
    "        dtrain,\n",
    "        num_boost_round=200,\n",
    "        evals=watchlist,  # Pass the watchlist here\n",
    "        evals_result=evals_result,  # Capture evaluation results directly\n",
    "        verbose_eval=5\n",
    "    )\n",
    "    \n",
    "    # Extract validation AUC for each boosting round\n",
    "    num_iter = list(range(len(evals_result['validation']['auc'])))  # Use the correct key 'validation'\n",
    "    val_auc = evals_result['validation']['auc']\n",
    "    df_scores = pd.DataFrame({'num_iter': num_iter, 'val_auc': val_auc})\n",
    "    scores[f'depth={depth}'] = df_scores\n"
   ]
  },
  {
   "cell_type": "code",
   "execution_count": 138,
   "metadata": {},
   "outputs": [
    {
     "data": {
      "image/png": "[encoded data removed]",
      "text/plain": [
       "<Figure size 1000x600 with 1 Axes>"
      ]
     },
     "metadata": {},
     "output_type": "display_data"
    }
   ],
   "source": [
    "# Plotting the results\n",
    "plt.figure(figsize=(10, 6))\n",
    "for depth, df_scores in scores.items():\n",
    "    plt.plot(df_scores.num_iter, df_scores.val_auc, label=depth)\n",
    "\n",
    "plt.xlabel(\"Number of Boosting Rounds\")\n",
    "plt.ylabel(\"Validation AUC\")\n",
    "plt.title(\"Validation AUC vs. Number of Boosting Rounds for Different depth Values\")\n",
    "plt.legend(title=\"depth Values\")\n",
    "plt.grid(True)\n",
    "plt.show()"
   ]
  },
  {
   "cell_type": "markdown",
   "metadata": {},
   "source": [
    "**XGBoost: eta = 0.5, depth = 6**"
   ]
  },
  {
   "cell_type": "markdown",
   "metadata": {},
   "source": [
    "### Selecting the model"
   ]
  },
  {
   "cell_type": "markdown",
   "metadata": {},
   "source": [
    "**DecisionTree**\n",
    "\n",
    "**DecisionTree: max_depth = 20, min_samples_leaf = 5: ROC = 0.953**"
   ]
  },
  {
   "cell_type": "code",
   "execution_count": 139,
   "metadata": {},
   "outputs": [
    {
     "name": "stdout",
     "output_type": "stream",
     "text": [
      "Decision Tree Results\n",
      "Accuracy: 0.97285\n",
      "Decision Tree - ROC AUC Score: 0.9519680553080734\n"
     ]
    }
   ],
   "source": [
    "train_dict = df_train[categorical + numerical].to_dict(orient='records')\n",
    "X_train = dv.fit_transform(train_dict)\n",
    "\n",
    "\n",
    "# Train Decision Tree\n",
    "dt_model = DecisionTreeClassifier(max_depth = 20,min_samples_leaf=5, random_state=42)\n",
    "\n",
    "\n",
    "dt_model.fit(X_train, y_train)\n",
    "\n",
    "\n",
    "test_dict = df_test[categorical + numerical].to_dict(orient='records')\n",
    "\n",
    "x_test = dv.fit_transform(test_dict)\n",
    "# Predictions\n",
    "dt_preds = dt_model.predict(x_test)\n",
    "\n",
    "# Evaluation for Decision Tree\n",
    "print(\"Decision Tree Results\")\n",
    "print(\"Accuracy:\", accuracy_score(y_test, dt_preds))\n",
    "print(\"Decision Tree - ROC AUC Score:\", roc_auc_score(y_test, dt_preds))"
   ]
  },
  {
   "cell_type": "markdown",
   "metadata": {},
   "source": [
    "**Random Forest**\n",
    "\n",
    "**RandomForest: n_estimators = 150, max_depth = 70, min_samples_leaf = 1**"
   ]
  },
  {
   "cell_type": "code",
   "execution_count": 140,
   "metadata": {},
   "outputs": [
    {
     "name": "stdout",
     "output_type": "stream",
     "text": [
      "\n",
      "Random Forest Results\n",
      "Accuracy: 0.97285\n",
      "ROC AUC Score: 0.9212867372168342\n"
     ]
    }
   ],
   "source": [
    "# Train Random Forest\n",
    "rf_model = RandomForestClassifier(n_estimators=150, max_depth=70, min_samples_leaf=1, random_state=42)\n",
    "\n",
    "rf_model.fit(X_train, y_train)\n",
    "\n",
    "# Predictions\n",
    "rf_preds = rf_model.predict(x_test)\n",
    "\n",
    "# Evaluation for Random Forest\n",
    "print(\"\\nRandom Forest Results\")\n",
    "print(\"Accuracy:\", accuracy_score(y_test, dt_preds))\n",
    "print(\"ROC AUC Score:\", roc_auc_score(y_test, rf_preds))"
   ]
  },
  {
   "cell_type": "markdown",
   "metadata": {},
   "source": [
    "**XGBoost**\n",
    "\n",
    "**XGBoost: eta = 0.5, depth = 6**"
   ]
  },
  {
   "cell_type": "code",
   "execution_count": 143,
   "metadata": {},
   "outputs": [],
   "source": [
    "dtrain = xgb.DMatrix(X_train, label=y_train,\n",
    "                         feature_names=dv.get_feature_names_out().tolist())\n",
    "\n",
    "dtest = xgb.DMatrix(x_test, feature_names=dv.get_feature_names_out().tolist())"
   ]
  },
  {
   "cell_type": "code",
   "execution_count": 144,
   "metadata": {},
   "outputs": [],
   "source": [
    "xgb_params = {\n",
    "    'eta': 0.5, \n",
    "    'max_depth': 6,\n",
    "    'min_child_weight': 1,\n",
    "\n",
    "    'objective': 'binary:logistic',\n",
    "    'eval_metric': 'auc',\n",
    "\n",
    "    'nthread': 8,\n",
    "    'seed': 1,\n",
    "    'verbosity': 1,\n",
    "}\n",
    "\n",
    "model = xgb.train(xgb_params, dtrain, num_boost_round=175)"
   ]
  },
  {
   "cell_type": "code",
   "execution_count": 147,
   "metadata": {},
   "outputs": [
    {
     "name": "stdout",
     "output_type": "stream",
     "text": [
      "\n",
      " XGboost Results\n",
      "ROC AUC Score 0.9959464534612015\n"
     ]
    }
   ],
   "source": [
    "y_pred = model.predict(dtest)\n",
    "\n",
    "print(\"\\n XGboost Results\")\n",
    "print('ROC AUC Score', roc_auc_score(y_test, y_pred))"
   ]
  },
  {
   "cell_type": "code",
   "execution_count": null,
   "metadata": {},
   "outputs": [],
   "source": []
  }
 ],
 "metadata": {
  "colab": {
   "gpuType": "T4",
   "provenance": []
  },
  "kernelspec": {
   "display_name": "Python 3 (ipykernel)",
   "language": "python",
   "name": "python3"
  },
  "language_info": {
   "codemirror_mode": {
    "name": "ipython",
    "version": 3
   },
   "file_extension": ".py",
   "mimetype": "text/x-python",
   "name": "python",
   "nbconvert_exporter": "python",
   "pygments_lexer": "ipython3",
   "version": "3.11.6"
  }
 },
 "nbformat": 4,
 "nbformat_minor": 4
}
