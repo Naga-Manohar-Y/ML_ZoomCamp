{
 "cells": [
  {
   "cell_type": "code",
   "execution_count": 1,
   "id": "73578b43-bc79-4291-a5da-ae65be41e072",
   "metadata": {},
   "outputs": [
    {
     "data": {
      "text/plain": [
       "(DictVectorizer(sparse=False), <xgboost.core.Booster at 0x75c10f20ed20>)"
      ]
     },
     "execution_count": 1,
     "metadata": {},
     "output_type": "execute_result"
    }
   ],
   "source": [
    "import pickle\n",
    "\n",
    "input_file = 'XGBoost_model.bin'\n",
    "\n",
    "with open(input_file, 'rb') as f_in: \n",
    "    dv, model = pickle.load(f_in)\n",
    "\n",
    "\n",
    "dv, model"
   ]
  },
  {
   "cell_type": "code",
   "execution_count": 2,
   "id": "3e4dcbd0-242f-4a5e-85f8-da4f5a6cb80a",
   "metadata": {},
   "outputs": [
    {
     "name": "stdout",
     "output_type": "stream",
     "text": [
      "['amount' 'card_present' 'card_type=Basic Credit' 'card_type=Basic Debit'\n",
      " 'card_type=Gold Credit' 'card_type=Platinum Credit'\n",
      " 'card_type=Premium Debit' 'channel=mobile' 'channel=pos' 'channel=web'\n",
      " 'city=Chicago' 'city=Dallas' 'city=Houston' 'city=Los Angeles'\n",
      " 'city=New York' 'city=Philadelphia' 'city=Phoenix' 'city=San Antonio'\n",
      " 'city=San Diego' 'city=San Jose' 'city=Unknown City' 'city_size=large'\n",
      " 'city_size=medium' 'country=Australia' 'country=Brazil' 'country=Canada'\n",
      " 'country=France' 'country=Germany' 'country=Japan' 'country=Mexico'\n",
      " 'country=Nigeria' 'country=Russia' 'country=Singapore' 'country=UK'\n",
      " 'country=USA' 'day' 'device=Android App' 'device=Chip Reader'\n",
      " 'device=Chrome' 'device=Edge' 'device=Firefox' 'device=Magnetic Stripe'\n",
      " 'device=NFC Payment' 'device=Safari' 'device=iOS App'\n",
      " 'distance_from_home' 'high_risk_merchant' 'hour'\n",
      " 'max_single_amount_in_last_hour' 'merchant=AMC Theaters'\n",
      " 'merchant=Airbnb' 'merchant=Aldi' 'merchant=AliExpress' 'merchant=Amazon'\n",
      " 'merchant=Amazon Fresh' 'merchant=Amazon Prime'\n",
      " 'merchant=American Airlines' 'merchant=Apple Music' \"merchant=Applebee's\"\n",
      " 'merchant=BP' 'merchant=Barnes & Noble' 'merchant=Best Buy'\n",
      " 'merchant=Booking.com' 'merchant=Burger King' 'merchant=CVS Pharmacy'\n",
      " 'merchant=Capital Grille' 'merchant=Careem' 'merchant=Chegg'\n",
      " 'merchant=Chevron' \"merchant=Chili's\" 'merchant=Costco'\n",
      " 'merchant=Coursera' 'merchant=Delta' 'merchant=Disney+'\n",
      " 'merchant=DuaneReade' 'merchant=Emirates'\n",
      " 'merchant=Enterprise Rent-A-Car' 'merchant=Epic Games' 'merchant=Etsy'\n",
      " 'merchant=Expedia' 'merchant=Exxon' 'merchant=Food Lion'\n",
      " 'merchant=FreshDirect' 'merchant=HBO Max' 'merchant=Hertz'\n",
      " 'merchant=Highway Gas Stop' 'merchant=Hilton' 'merchant=Holiday Inn'\n",
      " 'merchant=Home Depot' 'merchant=Hotels.com' 'merchant=Hulu'\n",
      " 'merchant=Hyatt' 'merchant=IKEA' 'merchant=Instacart' 'merchant=JetBlue'\n",
      " 'merchant=KFC' 'merchant=Kayak' 'merchant=Kroger' 'merchant=Lab Corp'\n",
      " 'merchant=LiveNation' 'merchant=Local Gas Station'\n",
      " 'merchant=Local Hospital' 'merchant=Lyft' \"merchant=Macy's\"\n",
      " 'merchant=Marriott' 'merchant=MasterClass' \"merchant=McDonald's\"\n",
      " 'merchant=Medical Center' 'merchant=Mobil' \"merchant=Morton's\"\n",
      " 'merchant=Netflix' 'merchant=Newegg' 'merchant=Nike Store'\n",
      " 'merchant=Nintendo eShop' 'merchant=Nobu' 'merchant=Olive Garden'\n",
      " 'merchant=PlayStation Store' 'merchant=Publix' 'merchant=Red Lobster'\n",
      " 'merchant=Regal Cinemas' 'merchant=Rite Aid' \"merchant=Ruth's Chris\"\n",
      " 'merchant=Safeway' 'merchant=Shell' 'merchant=Sheraton'\n",
      " 'merchant=Shopify Store' 'merchant=Skillshare' 'merchant=Southwest'\n",
      " 'merchant=Spotify' 'merchant=Steam' 'merchant=StubHub' 'merchant=Subway'\n",
      " 'merchant=TGI Fridays' 'merchant=Taco Bell' 'merchant=Target'\n",
      " 'merchant=Texaco' 'merchant=Ticketmaster' \"merchant=Trader Joe's\"\n",
      " 'merchant=Truck Stop' 'merchant=Uber' 'merchant=Udemy'\n",
      " 'merchant=United Airlines' 'merchant=University Bookstore'\n",
      " 'merchant=Urgent Care' 'merchant=Walgreens' 'merchant=Walmart'\n",
      " 'merchant=Walmart Grocery' 'merchant=Wayfair' \"merchant=Wendy's\"\n",
      " 'merchant=Westin' 'merchant=Whole Foods' 'merchant=Xbox Live'\n",
      " 'merchant=eBay' 'merchant=edX' 'merchant_category=Education'\n",
      " 'merchant_category=Entertainment' 'merchant_category=Gas'\n",
      " 'merchant_category=Grocery' 'merchant_category=Healthcare'\n",
      " 'merchant_category=Restaurant' 'merchant_category=Retail'\n",
      " 'merchant_category=Travel' 'merchant_type=airlines'\n",
      " 'merchant_type=booking' 'merchant_type=casual' 'merchant_type=events'\n",
      " 'merchant_type=fast_food' 'merchant_type=gaming' 'merchant_type=hotels'\n",
      " 'merchant_type=local' 'merchant_type=major' 'merchant_type=medical'\n",
      " 'merchant_type=online' 'merchant_type=pharmacy' 'merchant_type=physical'\n",
      " 'merchant_type=premium' 'merchant_type=streaming'\n",
      " 'merchant_type=supplies' 'merchant_type=transport' 'month'\n",
      " 'num_transactions_in_last_hour' 'total_amount_in_last_hour'\n",
      " 'transaction_hour' 'unique_countries_in_last_hour'\n",
      " 'unique_merchants_in_last_hour' 'weekend_transaction' 'year']\n"
     ]
    }
   ],
   "source": [
    "feature_names = dv.get_feature_names_out()\n",
    "print(feature_names)"
   ]
  },
  {
   "cell_type": "code",
   "execution_count": 3,
   "id": "ee77d3b7-be1c-4da9-a7f5-0e5e3fcb7355",
   "metadata": {},
   "outputs": [],
   "source": [
    "test_record1 = {'amount': 66.98,\n",
    " 'card_present': 0,\n",
    " 'card_type': 'Platinum Credit',\n",
    " 'channel': 'POS',\n",
    " 'city': 'Chicago',\n",
    " 'city_size': 'medium',\n",
    " 'country': 'USA',\n",
    " 'device': 'Chrome',\n",
    " 'distance_from_home': 100.51,\n",
    " 'high_risk_merchant': 1,\n",
    " 'hour': 3,\n",
    " 'max_single_amount_in_last_hour': 90.48,\n",
    " 'merchant': 'Netflix',\n",
    " 'merchant_category': 'Entertainment',\n",
    " 'merchant_type': 'online',\n",
    " 'num_transactions_in_last_hour': 4,\n",
    " 'total_amount_in_last_hour': 965.14,\n",
    " 'transaction_hour': 9,\n",
    " 'unique_countries_in_last_hour': 1,\n",
    " 'unique_merchants_in_last_hour': 2,\n",
    " 'weekend_transaction': 0,\n",
    " 'year': 2021,\n",
    " 'month': 6,\n",
    " 'day': 13}"
   ]
  },
  {
   "cell_type": "code",
   "execution_count": 4,
   "id": "a3540722-72dd-4c9d-a45e-220005c1b40c",
   "metadata": {},
   "outputs": [],
   "source": [
    "test_record2 = {'amount': 66.98,\n",
    " 'card_present': 1,\n",
    " 'card_type': 'Platinum Credit',\n",
    " 'channel': 'POS',\n",
    " 'city': 'Chicago',\n",
    " 'city_size': 'medium',\n",
    " 'country': 'USA',\n",
    " 'device': 'Chip Reader',\n",
    " 'distance_from_home': 10.51,\n",
    " 'high_risk_merchant': 0,\n",
    " 'hour': 3,\n",
    " 'max_single_amount_in_last_hour': 66.98,\n",
    " 'merchant': 'Home Depot',\n",
    " 'merchant_category': 'Retail',\n",
    " 'merchant_type': 'physical',\n",
    " 'num_transactions_in_last_hour': 4,\n",
    " 'total_amount_in_last_hour': 160.14,\n",
    " 'transaction_hour': 9,\n",
    " 'unique_countries_in_last_hour': 1,\n",
    " 'unique_merchants_in_last_hour': 2,\n",
    " 'weekend_transaction': 0,\n",
    " 'year': 2021,\n",
    " 'month': 6,\n",
    " 'day': 13}"
   ]
  },
  {
   "cell_type": "code",
   "execution_count": 5,
   "id": "2e0cab6d-fdbe-4915-8e35-b9f9b4b7abfb",
   "metadata": {},
   "outputs": [],
   "source": [
    "import pandas as pd\n",
    "import xgboost as xgb\n",
    "\n",
    "# Assuming `model` and `dv` are already loaded/defined in your environment\n",
    "\n",
    "def predict_transaction_fraud(test_record, fraud_threshold=0.5):\n",
    "    \"\"\"\n",
    "    Predicts whether a given transaction is fraudulent or not using the pre-trained model and vectorizer.\n",
    "    \n",
    "    Parameters:\n",
    "    - test_record (dict): The transaction data in dictionary format.\n",
    "    - fraud_threshold (float): The threshold for classifying a transaction as fraud (default is 0.5).\n",
    "    \n",
    "    Returns:\n",
    "    - str: 'Fraud' or 'Not Fraud' based on the model's prediction.\n",
    "    \"\"\"\n",
    "    # Get the feature names used during training\n",
    "    train_feature_names = model.feature_names\n",
    "\n",
    "    # Transform the test record into the format used for prediction\n",
    "    X_test = dv.transform([test_record])\n",
    "\n",
    "    # Ensure the transformed test data has the same feature names as the training data\n",
    "    X_test = pd.DataFrame(X_test, columns=train_feature_names)\n",
    "\n",
    "    # Convert the DataFrame to a DMatrix\n",
    "    X_test_dmatrix = xgb.DMatrix(X_test)\n",
    "\n",
    "    # Get the prediction (probability of being fraudulent)\n",
    "    y_preds = model.predict(X_test_dmatrix)\n",
    "\n",
    "    # Classify the transaction based on the fraud threshold\n",
    "    transaction_type = \"Not Fraud\" if y_preds[0] >= fraud_threshold else \"Fraud\"\n",
    "\n",
    "    return transaction_type\n"
   ]
  },
  {
   "cell_type": "code",
   "execution_count": 6,
   "id": "96bf8108-2902-4c22-8c0e-61784f7a8efb",
   "metadata": {},
   "outputs": [
    {
     "name": "stdout",
     "output_type": "stream",
     "text": [
      "The current transaction is: Fraud\n"
     ]
    }
   ],
   "source": [
    "\n",
    "# Call the function with just the test record\n",
    "transaction_status = predict_transaction_fraud(test_record1)\n",
    "\n",
    "print(f\"The current transaction is: {transaction_status}\")"
   ]
  },
  {
   "cell_type": "code",
   "execution_count": 7,
   "id": "bb006102-a2fb-48aa-9983-ec8224cf62f0",
   "metadata": {},
   "outputs": [
    {
     "name": "stdout",
     "output_type": "stream",
     "text": [
      "The current transaction is: Not Fraud\n"
     ]
    }
   ],
   "source": [
    "\n",
    "# Call the function with just the test record\n",
    "transaction_status = predict_transaction_fraud(test_record2)\n",
    "\n",
    "print(f\"The current transaction is: {transaction_status}\")"
   ]
  },
  {
   "cell_type": "markdown",
   "id": "e10c212c-6b21-495a-b00e-03f4b4a85bee",
   "metadata": {},
   "source": [
    "**Web service check of predict.py using Flask**"
   ]
  },
  {
   "cell_type": "code",
   "execution_count": 15,
   "id": "ede1d6ae-9164-4183-84be-43669023139d",
   "metadata": {},
   "outputs": [
    {
     "name": "stdout",
     "output_type": "stream",
     "text": [
      "{'transaction_status': 'Fraud'}\n",
      "Send the notification to Customer\n"
     ]
    }
   ],
   "source": [
    "import requests\n",
    "\n",
    "\n",
    "url = 'http://localhost:9696/predict'\n",
    "\n",
    "response = requests.post(url, json=test_record1).json()\n",
    "print(response)\n",
    "if response['transaction_status'] == 'Fraud':\n",
    "    print('Send the notification to Customer')"
   ]
  },
  {
   "cell_type": "code",
   "execution_count": 16,
   "id": "f9b8d337-171e-4dfb-8014-a59a6db5dbf3",
   "metadata": {},
   "outputs": [
    {
     "name": "stdout",
     "output_type": "stream",
     "text": [
      "{'transaction_status': 'Not Fraud'}\n"
     ]
    }
   ],
   "source": [
    "response = requests.post(url, json=test_record2).json()\n",
    "print(response)\n",
    "if response['transaction_status'] == 'Fraud':\n",
    "    print('Send a notification to Customer')"
   ]
  },
  {
   "cell_type": "code",
   "execution_count": null,
   "id": "ddcc0f70-91a8-468f-808f-8ec25a26a946",
   "metadata": {},
   "outputs": [],
   "source": []
  }
 ],
 "metadata": {
  "kernelspec": {
   "display_name": "Python 3 (ipykernel)",
   "language": "python",
   "name": "python3"
  },
  "language_info": {
   "codemirror_mode": {
    "name": "ipython",
    "version": 3
   },
   "file_extension": ".py",
   "mimetype": "text/x-python",
   "name": "python",
   "nbconvert_exporter": "python",
   "pygments_lexer": "ipython3",
   "version": "3.12.1"
  }
 },
 "nbformat": 4,
 "nbformat_minor": 5
}
